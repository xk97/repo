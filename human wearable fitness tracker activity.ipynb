{
 "cells": [
  {
   "cell_type": "markdown",
   "metadata": {},
   "source": [
    "ref: https://archive.ics.uci.edu/ml/datasets/Human+Activity+Recognition+Using+Smartphones"
   ]
  },
  {
   "cell_type": "code",
   "execution_count": 1,
   "metadata": {},
   "outputs": [
    {
     "data": {
      "text/plain": [
       "['activity_labels.txt',\n",
       " 'df_final_test.csv',\n",
       " 'df_final_train.csv',\n",
       " 'features.txt',\n",
       " 'features_info.txt',\n",
       " 'final_acc_test.txt',\n",
       " 'final_acc_train.txt',\n",
       " 'final_gyro_test.txt',\n",
       " 'final_gyro_train.txt',\n",
       " 'final_X_test.txt',\n",
       " 'final_X_train.txt',\n",
       " 'final_y_test.txt',\n",
       " 'final_y_train.txt',\n",
       " 'README.txt',\n",
       " 'waist_mounted_phone.PNG']"
      ]
     },
     "execution_count": 1,
     "metadata": {},
     "output_type": "execute_result"
    }
   ],
   "source": [
    "import os\n",
    "fpath = r\"C:\\Users\\cyret\\Documents\\Python Scripts\\data\\human_data\\dataset_uci\\dataset_uci\"\n",
    "os.listdir(fpath)"
   ]
  },
  {
   "cell_type": "markdown",
   "metadata": {},
   "source": [
    "std(): Standard deviation\n",
    "mad(): Median absolute deviation \n",
    "max(): Largest value in array\n",
    "min(): Smallest value in array\n",
    "sma(): Signal magnitude area\n",
    "energy(): Energy measure. Sum of the squares divided by the number of values. \n",
    "iqr(): Interquartile range \n",
    "entropy(): Signal entropy\n",
    "arCoeff(): Autorregresion coefficients with Burg order equal to 4\n",
    "correlation(): correlation coefficient between two signals\n",
    "maxInds(): index of the frequency component with largest magnitude\n",
    "meanFreq(): Weighted average of the frequency components to obtain a mean frequency\n",
    "skewness(): skewness of the frequency domain signal \n",
    "kurtosis(): kurtosis of the frequency domain signal \n",
    "bandsEnergy(): Energy of a frequency interval within the 64 bins of the FFT of each window.\n",
    "angle(): Angle between to vectors.\n",
    "\n",
    "Additional vectors obtained by averaging the signals in a signal window sample. These are used on the angle() variable:"
   ]
  },
  {
   "cell_type": "code",
   "execution_count": 2,
   "metadata": {},
   "outputs": [],
   "source": [
    "import numpy as np\n",
    "import pandas as pd\n",
    "import matplotlib.pyplot as plt\n",
    "import os\n",
    "from IPython.core.display import display\n",
    "from collections import Counter\n",
    "from sklearn.model_selection import train_test_split\n",
    "from sklearn.model_selection import StratifiedKFold\n",
    "np.set_printoptions(precision=2)\n",
    "\n",
    "%matplotlib inline"
   ]
  },
  {
   "cell_type": "code",
   "execution_count": 3,
   "metadata": {},
   "outputs": [
    {
     "data": {
      "text/plain": [
       "(                label\n",
       " 0                    \n",
       " 1             WALKING\n",
       " 2    WALKING_UPSTAIRS\n",
       " 3  WALKING_DOWNSTAIRS\n",
       " 4             SITTING\n",
       " 5            STANDING\n",
       " 6              LAYING,\n",
       " ['angle(tBodyGyroMean,gravityMean)',\n",
       "  'angle(tBodyGyroJerkMean,gravityMean)',\n",
       "  'angle(X,gravityMean)',\n",
       "  'angle(Y,gravityMean)',\n",
       "  'angle(Z,gravityMean)'])"
      ]
     },
     "execution_count": 3,
     "metadata": {},
     "output_type": "execute_result"
    }
   ],
   "source": [
    "feature_cols = pd.read_csv(os.path.join(fpath, 'features.txt'), sep=' ', index_col=0, header=None)\n",
    "labels = pd.read_csv(os.path.join(fpath, 'activity_labels.txt'), sep=' ', index_col=0, header=None)\n",
    "feature_cols = feature_cols[1].tolist()\n",
    "labels.columns = ['label']\n",
    "labels, feature_cols[-5:]"
   ]
  },
  {
   "cell_type": "code",
   "execution_count": 4,
   "metadata": {},
   "outputs": [
    {
     "data": {
      "text/html": [
       "<div>\n",
       "<style>\n",
       "    .dataframe thead tr:only-child th {\n",
       "        text-align: right;\n",
       "    }\n",
       "\n",
       "    .dataframe thead th {\n",
       "        text-align: left;\n",
       "    }\n",
       "\n",
       "    .dataframe tbody tr th {\n",
       "        vertical-align: top;\n",
       "    }\n",
       "</style>\n",
       "<table border=\"1\" class=\"dataframe\">\n",
       "  <thead>\n",
       "    <tr style=\"text-align: right;\">\n",
       "      <th></th>\n",
       "      <th>tBodyAcc-mean()-X</th>\n",
       "      <th>tBodyAcc-mean()-Y</th>\n",
       "      <th>tBodyAcc-mean()-Z</th>\n",
       "      <th>tBodyAcc-std()-X</th>\n",
       "      <th>tBodyAcc-std()-Y</th>\n",
       "      <th>tBodyAcc-std()-Z</th>\n",
       "      <th>tBodyAcc-mad()-X</th>\n",
       "      <th>tBodyAcc-mad()-Y</th>\n",
       "      <th>tBodyAcc-mad()-Z</th>\n",
       "      <th>tBodyAcc-max()-X</th>\n",
       "      <th>...</th>\n",
       "      <th>fBodyBodyGyroJerkMag-meanFreq()</th>\n",
       "      <th>fBodyBodyGyroJerkMag-skewness()</th>\n",
       "      <th>fBodyBodyGyroJerkMag-kurtosis()</th>\n",
       "      <th>angle(tBodyAccMean,gravity)</th>\n",
       "      <th>angle(tBodyAccJerkMean),gravityMean)</th>\n",
       "      <th>angle(tBodyGyroMean,gravityMean)</th>\n",
       "      <th>angle(tBodyGyroJerkMean,gravityMean)</th>\n",
       "      <th>angle(X,gravityMean)</th>\n",
       "      <th>angle(Y,gravityMean)</th>\n",
       "      <th>angle(Z,gravityMean)</th>\n",
       "    </tr>\n",
       "  </thead>\n",
       "  <tbody>\n",
       "    <tr>\n",
       "      <th>4247</th>\n",
       "      <td>0.28684</td>\n",
       "      <td>-0.016887</td>\n",
       "      <td>-0.11710</td>\n",
       "      <td>-0.98357</td>\n",
       "      <td>-0.99066</td>\n",
       "      <td>-0.97970</td>\n",
       "      <td>-0.98533</td>\n",
       "      <td>-0.99195</td>\n",
       "      <td>-0.98045</td>\n",
       "      <td>-0.92928</td>\n",
       "      <td>...</td>\n",
       "      <td>0.085943</td>\n",
       "      <td>-0.159950</td>\n",
       "      <td>-0.58147</td>\n",
       "      <td>0.045791</td>\n",
       "      <td>-0.099945</td>\n",
       "      <td>-0.043437</td>\n",
       "      <td>0.589010</td>\n",
       "      <td>0.40391</td>\n",
       "      <td>-0.79032</td>\n",
       "      <td>-0.15759</td>\n",
       "    </tr>\n",
       "    <tr>\n",
       "      <th>4248</th>\n",
       "      <td>0.28569</td>\n",
       "      <td>-0.017186</td>\n",
       "      <td>-0.10709</td>\n",
       "      <td>-0.98360</td>\n",
       "      <td>-0.98861</td>\n",
       "      <td>-0.99440</td>\n",
       "      <td>-0.98450</td>\n",
       "      <td>-0.98991</td>\n",
       "      <td>-0.99505</td>\n",
       "      <td>-0.92928</td>\n",
       "      <td>...</td>\n",
       "      <td>0.047450</td>\n",
       "      <td>0.001457</td>\n",
       "      <td>-0.38928</td>\n",
       "      <td>-0.137840</td>\n",
       "      <td>-0.110750</td>\n",
       "      <td>0.231190</td>\n",
       "      <td>-0.928130</td>\n",
       "      <td>0.40142</td>\n",
       "      <td>-0.79099</td>\n",
       "      <td>-0.15530</td>\n",
       "    </tr>\n",
       "    <tr>\n",
       "      <th>4249</th>\n",
       "      <td>0.28051</td>\n",
       "      <td>-0.017076</td>\n",
       "      <td>-0.10889</td>\n",
       "      <td>-0.98891</td>\n",
       "      <td>-0.99380</td>\n",
       "      <td>-0.99486</td>\n",
       "      <td>-0.98827</td>\n",
       "      <td>-0.99400</td>\n",
       "      <td>-0.99360</td>\n",
       "      <td>-0.93139</td>\n",
       "      <td>...</td>\n",
       "      <td>0.503120</td>\n",
       "      <td>-0.340150</td>\n",
       "      <td>-0.70291</td>\n",
       "      <td>-0.095181</td>\n",
       "      <td>0.302130</td>\n",
       "      <td>-0.215320</td>\n",
       "      <td>-0.292050</td>\n",
       "      <td>0.39991</td>\n",
       "      <td>-0.79018</td>\n",
       "      <td>-0.15549</td>\n",
       "    </tr>\n",
       "    <tr>\n",
       "      <th>4250</th>\n",
       "      <td>0.27921</td>\n",
       "      <td>-0.016717</td>\n",
       "      <td>-0.10827</td>\n",
       "      <td>-0.99196</td>\n",
       "      <td>-0.99474</td>\n",
       "      <td>-0.99603</td>\n",
       "      <td>-0.99225</td>\n",
       "      <td>-0.99395</td>\n",
       "      <td>-0.99560</td>\n",
       "      <td>-0.93139</td>\n",
       "      <td>...</td>\n",
       "      <td>0.503630</td>\n",
       "      <td>-0.654810</td>\n",
       "      <td>-0.89529</td>\n",
       "      <td>-0.481000</td>\n",
       "      <td>0.511110</td>\n",
       "      <td>-0.276490</td>\n",
       "      <td>0.020714</td>\n",
       "      <td>0.39891</td>\n",
       "      <td>-0.79000</td>\n",
       "      <td>-0.15515</td>\n",
       "    </tr>\n",
       "    <tr>\n",
       "      <th>4251</th>\n",
       "      <td>0.28274</td>\n",
       "      <td>-0.017231</td>\n",
       "      <td>-0.11013</td>\n",
       "      <td>-0.99541</td>\n",
       "      <td>-0.99349</td>\n",
       "      <td>-0.99707</td>\n",
       "      <td>-0.99573</td>\n",
       "      <td>-0.99310</td>\n",
       "      <td>-0.99755</td>\n",
       "      <td>-0.94040</td>\n",
       "      <td>...</td>\n",
       "      <td>0.591680</td>\n",
       "      <td>-0.638630</td>\n",
       "      <td>-0.90262</td>\n",
       "      <td>-0.000858</td>\n",
       "      <td>-0.347720</td>\n",
       "      <td>-0.786230</td>\n",
       "      <td>0.343220</td>\n",
       "      <td>0.39846</td>\n",
       "      <td>-0.78996</td>\n",
       "      <td>-0.15494</td>\n",
       "    </tr>\n",
       "  </tbody>\n",
       "</table>\n",
       "<p>5 rows × 561 columns</p>\n",
       "</div>"
      ],
      "text/plain": [
       "      tBodyAcc-mean()-X  tBodyAcc-mean()-Y  tBodyAcc-mean()-Z  \\\n",
       "4247            0.28684          -0.016887           -0.11710   \n",
       "4248            0.28569          -0.017186           -0.10709   \n",
       "4249            0.28051          -0.017076           -0.10889   \n",
       "4250            0.27921          -0.016717           -0.10827   \n",
       "4251            0.28274          -0.017231           -0.11013   \n",
       "\n",
       "      tBodyAcc-std()-X  tBodyAcc-std()-Y  tBodyAcc-std()-Z  tBodyAcc-mad()-X  \\\n",
       "4247          -0.98357          -0.99066          -0.97970          -0.98533   \n",
       "4248          -0.98360          -0.98861          -0.99440          -0.98450   \n",
       "4249          -0.98891          -0.99380          -0.99486          -0.98827   \n",
       "4250          -0.99196          -0.99474          -0.99603          -0.99225   \n",
       "4251          -0.99541          -0.99349          -0.99707          -0.99573   \n",
       "\n",
       "      tBodyAcc-mad()-Y  tBodyAcc-mad()-Z  tBodyAcc-max()-X  \\\n",
       "4247          -0.99195          -0.98045          -0.92928   \n",
       "4248          -0.98991          -0.99505          -0.92928   \n",
       "4249          -0.99400          -0.99360          -0.93139   \n",
       "4250          -0.99395          -0.99560          -0.93139   \n",
       "4251          -0.99310          -0.99755          -0.94040   \n",
       "\n",
       "              ...           fBodyBodyGyroJerkMag-meanFreq()  \\\n",
       "4247          ...                                  0.085943   \n",
       "4248          ...                                  0.047450   \n",
       "4249          ...                                  0.503120   \n",
       "4250          ...                                  0.503630   \n",
       "4251          ...                                  0.591680   \n",
       "\n",
       "      fBodyBodyGyroJerkMag-skewness()  fBodyBodyGyroJerkMag-kurtosis()  \\\n",
       "4247                        -0.159950                         -0.58147   \n",
       "4248                         0.001457                         -0.38928   \n",
       "4249                        -0.340150                         -0.70291   \n",
       "4250                        -0.654810                         -0.89529   \n",
       "4251                        -0.638630                         -0.90262   \n",
       "\n",
       "      angle(tBodyAccMean,gravity)  angle(tBodyAccJerkMean),gravityMean)  \\\n",
       "4247                     0.045791                             -0.099945   \n",
       "4248                    -0.137840                             -0.110750   \n",
       "4249                    -0.095181                              0.302130   \n",
       "4250                    -0.481000                              0.511110   \n",
       "4251                    -0.000858                             -0.347720   \n",
       "\n",
       "      angle(tBodyGyroMean,gravityMean)  angle(tBodyGyroJerkMean,gravityMean)  \\\n",
       "4247                         -0.043437                              0.589010   \n",
       "4248                          0.231190                             -0.928130   \n",
       "4249                         -0.215320                             -0.292050   \n",
       "4250                         -0.276490                              0.020714   \n",
       "4251                         -0.786230                              0.343220   \n",
       "\n",
       "      angle(X,gravityMean)  angle(Y,gravityMean)  angle(Z,gravityMean)  \n",
       "4247               0.40391              -0.79032              -0.15759  \n",
       "4248               0.40142              -0.79099              -0.15530  \n",
       "4249               0.39991              -0.79018              -0.15549  \n",
       "4250               0.39891              -0.79000              -0.15515  \n",
       "4251               0.39846              -0.78996              -0.15494  \n",
       "\n",
       "[5 rows x 561 columns]"
      ]
     },
     "execution_count": 4,
     "metadata": {},
     "output_type": "execute_result"
    }
   ],
   "source": [
    "df_final_X_train = pd.read_csv(os.path.join(fpath, 'final_X_train.txt'), header=None)\n",
    "df_final_X_train.columns = feature_cols\n",
    "df_final_X_train.tail()"
   ]
  },
  {
   "cell_type": "code",
   "execution_count": 5,
   "metadata": {},
   "outputs": [
    {
     "data": {
      "text/html": [
       "<div>\n",
       "<style>\n",
       "    .dataframe thead tr:only-child th {\n",
       "        text-align: right;\n",
       "    }\n",
       "\n",
       "    .dataframe thead th {\n",
       "        text-align: left;\n",
       "    }\n",
       "\n",
       "    .dataframe tbody tr th {\n",
       "        vertical-align: top;\n",
       "    }\n",
       "</style>\n",
       "<table border=\"1\" class=\"dataframe\">\n",
       "  <thead>\n",
       "    <tr style=\"text-align: right;\">\n",
       "      <th></th>\n",
       "      <th>X</th>\n",
       "      <th>Y</th>\n",
       "      <th>Z</th>\n",
       "    </tr>\n",
       "  </thead>\n",
       "  <tbody>\n",
       "    <tr>\n",
       "      <th>286503</th>\n",
       "      <td>-0.052534</td>\n",
       "      <td>0.042455</td>\n",
       "      <td>0.021380</td>\n",
       "    </tr>\n",
       "    <tr>\n",
       "      <th>286504</th>\n",
       "      <td>-0.049786</td>\n",
       "      <td>0.046731</td>\n",
       "      <td>0.015272</td>\n",
       "    </tr>\n",
       "    <tr>\n",
       "      <th>286505</th>\n",
       "      <td>-0.036957</td>\n",
       "      <td>0.051618</td>\n",
       "      <td>0.016493</td>\n",
       "    </tr>\n",
       "    <tr>\n",
       "      <th>286506</th>\n",
       "      <td>-0.030849</td>\n",
       "      <td>0.048869</td>\n",
       "      <td>0.022602</td>\n",
       "    </tr>\n",
       "    <tr>\n",
       "      <th>286507</th>\n",
       "      <td>-0.022602</td>\n",
       "      <td>0.041539</td>\n",
       "      <td>0.015577</td>\n",
       "    </tr>\n",
       "  </tbody>\n",
       "</table>\n",
       "</div>"
      ],
      "text/plain": [
       "               X         Y         Z\n",
       "286503 -0.052534  0.042455  0.021380\n",
       "286504 -0.049786  0.046731  0.015272\n",
       "286505 -0.036957  0.051618  0.016493\n",
       "286506 -0.030849  0.048869  0.022602\n",
       "286507 -0.022602  0.041539  0.015577"
      ]
     },
     "execution_count": 5,
     "metadata": {},
     "output_type": "execute_result"
    }
   ],
   "source": [
    "df_final_gyro_train = pd.read_csv(os.path.join(fpath, 'final_gyro_train.txt'), header=None)\n",
    "df_final_gyro_train.columns = list('XYZ')\n",
    "df_final_gyro_train.tail()"
   ]
  },
  {
   "cell_type": "code",
   "execution_count": 6,
   "metadata": {},
   "outputs": [
    {
     "data": {
      "text/html": [
       "<div>\n",
       "<style>\n",
       "    .dataframe thead tr:only-child th {\n",
       "        text-align: right;\n",
       "    }\n",
       "\n",
       "    .dataframe thead th {\n",
       "        text-align: left;\n",
       "    }\n",
       "\n",
       "    .dataframe tbody tr th {\n",
       "        vertical-align: top;\n",
       "    }\n",
       "</style>\n",
       "<table border=\"1\" class=\"dataframe\">\n",
       "  <thead>\n",
       "    <tr style=\"text-align: right;\">\n",
       "      <th></th>\n",
       "      <th>X</th>\n",
       "      <th>Y</th>\n",
       "      <th>Z</th>\n",
       "    </tr>\n",
       "  </thead>\n",
       "  <tbody>\n",
       "    <tr>\n",
       "      <th>284350</th>\n",
       "      <td>-1.7298</td>\n",
       "      <td>9.6023</td>\n",
       "      <td>2.3427</td>\n",
       "    </tr>\n",
       "    <tr>\n",
       "      <th>284351</th>\n",
       "      <td>-1.7706</td>\n",
       "      <td>9.7113</td>\n",
       "      <td>2.4380</td>\n",
       "    </tr>\n",
       "    <tr>\n",
       "      <th>284352</th>\n",
       "      <td>-1.7706</td>\n",
       "      <td>9.6432</td>\n",
       "      <td>2.3291</td>\n",
       "    </tr>\n",
       "    <tr>\n",
       "      <th>284353</th>\n",
       "      <td>-1.7979</td>\n",
       "      <td>9.6568</td>\n",
       "      <td>2.3972</td>\n",
       "    </tr>\n",
       "    <tr>\n",
       "      <th>284354</th>\n",
       "      <td>-1.7979</td>\n",
       "      <td>9.6432</td>\n",
       "      <td>2.3563</td>\n",
       "    </tr>\n",
       "  </tbody>\n",
       "</table>\n",
       "</div>"
      ],
      "text/plain": [
       "             X       Y       Z\n",
       "284350 -1.7298  9.6023  2.3427\n",
       "284351 -1.7706  9.7113  2.4380\n",
       "284352 -1.7706  9.6432  2.3291\n",
       "284353 -1.7979  9.6568  2.3972\n",
       "284354 -1.7979  9.6432  2.3563"
      ]
     },
     "execution_count": 6,
     "metadata": {},
     "output_type": "execute_result"
    }
   ],
   "source": [
    "df_final_acc_train = pd.read_csv(os.path.join(fpath, 'final_acc_train.txt'), header=None)\n",
    "df_final_acc_train.columns = list('XYZ')\n",
    "df_final_acc_train.tail()"
   ]
  },
  {
   "cell_type": "code",
   "execution_count": 7,
   "metadata": {},
   "outputs": [
    {
     "data": {
      "text/plain": [
       "<matplotlib.axes._subplots.AxesSubplot at 0x18f82de8128>"
      ]
     },
     "execution_count": 7,
     "metadata": {},
     "output_type": "execute_result"
    },
    {
     "data": {
      "image/png": "[encoded data removed]",
      "text/plain": [
       "<Figure size 1152x288 with 1 Axes>"
      ]
     },
     "metadata": {},
     "output_type": "display_data"
    }
   ],
   "source": [
    "df_final_acc_train.plot(figsize=(16, 4))"
   ]
  },
  {
   "cell_type": "code",
   "execution_count": 8,
   "metadata": {},
   "outputs": [
    {
     "data": {
      "text/html": [
       "<div>\n",
       "<style>\n",
       "    .dataframe thead tr:only-child th {\n",
       "        text-align: right;\n",
       "    }\n",
       "\n",
       "    .dataframe thead th {\n",
       "        text-align: left;\n",
       "    }\n",
       "\n",
       "    .dataframe tbody tr th {\n",
       "        vertical-align: top;\n",
       "    }\n",
       "</style>\n",
       "<table border=\"1\" class=\"dataframe\">\n",
       "  <thead>\n",
       "    <tr style=\"text-align: right;\">\n",
       "      <th></th>\n",
       "      <th>label</th>\n",
       "    </tr>\n",
       "  </thead>\n",
       "  <tbody>\n",
       "    <tr>\n",
       "      <th>4247</th>\n",
       "      <td>6</td>\n",
       "    </tr>\n",
       "    <tr>\n",
       "      <th>4248</th>\n",
       "      <td>6</td>\n",
       "    </tr>\n",
       "    <tr>\n",
       "      <th>4249</th>\n",
       "      <td>6</td>\n",
       "    </tr>\n",
       "    <tr>\n",
       "      <th>4250</th>\n",
       "      <td>6</td>\n",
       "    </tr>\n",
       "    <tr>\n",
       "      <th>4251</th>\n",
       "      <td>6</td>\n",
       "    </tr>\n",
       "  </tbody>\n",
       "</table>\n",
       "</div>"
      ],
      "text/plain": [
       "      label\n",
       "4247      6\n",
       "4248      6\n",
       "4249      6\n",
       "4250      6\n",
       "4251      6"
      ]
     },
     "execution_count": 8,
     "metadata": {},
     "output_type": "execute_result"
    }
   ],
   "source": [
    "df_final_y_train = pd.read_csv(os.path.join(fpath, 'final_y_train.txt'), header=None)\n",
    "df_final_y_train.columns = ['label']\n",
    "df_final_y_train.tail()"
   ]
  },
  {
   "cell_type": "code",
   "execution_count": 9,
   "metadata": {},
   "outputs": [
    {
     "data": {
      "text/html": [
       "<div>\n",
       "<style>\n",
       "    .dataframe thead tr:only-child th {\n",
       "        text-align: right;\n",
       "    }\n",
       "\n",
       "    .dataframe thead th {\n",
       "        text-align: left;\n",
       "    }\n",
       "\n",
       "    .dataframe tbody tr th {\n",
       "        vertical-align: top;\n",
       "    }\n",
       "</style>\n",
       "<table border=\"1\" class=\"dataframe\">\n",
       "  <thead>\n",
       "    <tr style=\"text-align: right;\">\n",
       "      <th></th>\n",
       "      <th>tBodyAcc-mean()-X</th>\n",
       "      <th>tBodyAcc-mean()-Y</th>\n",
       "      <th>tBodyAcc-mean()-Z</th>\n",
       "      <th>tBodyAcc-std()-X</th>\n",
       "      <th>tBodyAcc-std()-Y</th>\n",
       "      <th>tBodyAcc-std()-Z</th>\n",
       "      <th>tBodyAcc-mad()-X</th>\n",
       "      <th>tBodyAcc-mad()-Y</th>\n",
       "      <th>tBodyAcc-mad()-Z</th>\n",
       "      <th>tBodyAcc-max()-X</th>\n",
       "      <th>...</th>\n",
       "      <th>fBodyBodyGyroJerkMag-skewness()</th>\n",
       "      <th>fBodyBodyGyroJerkMag-kurtosis()</th>\n",
       "      <th>angle(tBodyAccMean,gravity)</th>\n",
       "      <th>angle(tBodyAccJerkMean),gravityMean)</th>\n",
       "      <th>angle(tBodyGyroMean,gravityMean)</th>\n",
       "      <th>angle(tBodyGyroJerkMean,gravityMean)</th>\n",
       "      <th>angle(X,gravityMean)</th>\n",
       "      <th>angle(Y,gravityMean)</th>\n",
       "      <th>angle(Z,gravityMean)</th>\n",
       "      <th>label</th>\n",
       "    </tr>\n",
       "  </thead>\n",
       "  <tbody>\n",
       "    <tr>\n",
       "      <th>4247</th>\n",
       "      <td>0.28684</td>\n",
       "      <td>-0.016887</td>\n",
       "      <td>-0.11710</td>\n",
       "      <td>-0.98357</td>\n",
       "      <td>-0.99066</td>\n",
       "      <td>-0.97970</td>\n",
       "      <td>-0.98533</td>\n",
       "      <td>-0.99195</td>\n",
       "      <td>-0.98045</td>\n",
       "      <td>-0.92928</td>\n",
       "      <td>...</td>\n",
       "      <td>-0.159950</td>\n",
       "      <td>-0.58147</td>\n",
       "      <td>0.045791</td>\n",
       "      <td>-0.099945</td>\n",
       "      <td>-0.043437</td>\n",
       "      <td>0.589010</td>\n",
       "      <td>0.40391</td>\n",
       "      <td>-0.79032</td>\n",
       "      <td>-0.15759</td>\n",
       "      <td>6</td>\n",
       "    </tr>\n",
       "    <tr>\n",
       "      <th>4248</th>\n",
       "      <td>0.28569</td>\n",
       "      <td>-0.017186</td>\n",
       "      <td>-0.10709</td>\n",
       "      <td>-0.98360</td>\n",
       "      <td>-0.98861</td>\n",
       "      <td>-0.99440</td>\n",
       "      <td>-0.98450</td>\n",
       "      <td>-0.98991</td>\n",
       "      <td>-0.99505</td>\n",
       "      <td>-0.92928</td>\n",
       "      <td>...</td>\n",
       "      <td>0.001457</td>\n",
       "      <td>-0.38928</td>\n",
       "      <td>-0.137840</td>\n",
       "      <td>-0.110750</td>\n",
       "      <td>0.231190</td>\n",
       "      <td>-0.928130</td>\n",
       "      <td>0.40142</td>\n",
       "      <td>-0.79099</td>\n",
       "      <td>-0.15530</td>\n",
       "      <td>6</td>\n",
       "    </tr>\n",
       "    <tr>\n",
       "      <th>4249</th>\n",
       "      <td>0.28051</td>\n",
       "      <td>-0.017076</td>\n",
       "      <td>-0.10889</td>\n",
       "      <td>-0.98891</td>\n",
       "      <td>-0.99380</td>\n",
       "      <td>-0.99486</td>\n",
       "      <td>-0.98827</td>\n",
       "      <td>-0.99400</td>\n",
       "      <td>-0.99360</td>\n",
       "      <td>-0.93139</td>\n",
       "      <td>...</td>\n",
       "      <td>-0.340150</td>\n",
       "      <td>-0.70291</td>\n",
       "      <td>-0.095181</td>\n",
       "      <td>0.302130</td>\n",
       "      <td>-0.215320</td>\n",
       "      <td>-0.292050</td>\n",
       "      <td>0.39991</td>\n",
       "      <td>-0.79018</td>\n",
       "      <td>-0.15549</td>\n",
       "      <td>6</td>\n",
       "    </tr>\n",
       "    <tr>\n",
       "      <th>4250</th>\n",
       "      <td>0.27921</td>\n",
       "      <td>-0.016717</td>\n",
       "      <td>-0.10827</td>\n",
       "      <td>-0.99196</td>\n",
       "      <td>-0.99474</td>\n",
       "      <td>-0.99603</td>\n",
       "      <td>-0.99225</td>\n",
       "      <td>-0.99395</td>\n",
       "      <td>-0.99560</td>\n",
       "      <td>-0.93139</td>\n",
       "      <td>...</td>\n",
       "      <td>-0.654810</td>\n",
       "      <td>-0.89529</td>\n",
       "      <td>-0.481000</td>\n",
       "      <td>0.511110</td>\n",
       "      <td>-0.276490</td>\n",
       "      <td>0.020714</td>\n",
       "      <td>0.39891</td>\n",
       "      <td>-0.79000</td>\n",
       "      <td>-0.15515</td>\n",
       "      <td>6</td>\n",
       "    </tr>\n",
       "    <tr>\n",
       "      <th>4251</th>\n",
       "      <td>0.28274</td>\n",
       "      <td>-0.017231</td>\n",
       "      <td>-0.11013</td>\n",
       "      <td>-0.99541</td>\n",
       "      <td>-0.99349</td>\n",
       "      <td>-0.99707</td>\n",
       "      <td>-0.99573</td>\n",
       "      <td>-0.99310</td>\n",
       "      <td>-0.99755</td>\n",
       "      <td>-0.94040</td>\n",
       "      <td>...</td>\n",
       "      <td>-0.638630</td>\n",
       "      <td>-0.90262</td>\n",
       "      <td>-0.000858</td>\n",
       "      <td>-0.347720</td>\n",
       "      <td>-0.786230</td>\n",
       "      <td>0.343220</td>\n",
       "      <td>0.39846</td>\n",
       "      <td>-0.78996</td>\n",
       "      <td>-0.15494</td>\n",
       "      <td>6</td>\n",
       "    </tr>\n",
       "  </tbody>\n",
       "</table>\n",
       "<p>5 rows × 562 columns</p>\n",
       "</div>"
      ],
      "text/plain": [
       "      tBodyAcc-mean()-X  tBodyAcc-mean()-Y  tBodyAcc-mean()-Z  \\\n",
       "4247            0.28684          -0.016887           -0.11710   \n",
       "4248            0.28569          -0.017186           -0.10709   \n",
       "4249            0.28051          -0.017076           -0.10889   \n",
       "4250            0.27921          -0.016717           -0.10827   \n",
       "4251            0.28274          -0.017231           -0.11013   \n",
       "\n",
       "      tBodyAcc-std()-X  tBodyAcc-std()-Y  tBodyAcc-std()-Z  tBodyAcc-mad()-X  \\\n",
       "4247          -0.98357          -0.99066          -0.97970          -0.98533   \n",
       "4248          -0.98360          -0.98861          -0.99440          -0.98450   \n",
       "4249          -0.98891          -0.99380          -0.99486          -0.98827   \n",
       "4250          -0.99196          -0.99474          -0.99603          -0.99225   \n",
       "4251          -0.99541          -0.99349          -0.99707          -0.99573   \n",
       "\n",
       "      tBodyAcc-mad()-Y  tBodyAcc-mad()-Z  tBodyAcc-max()-X  ...    \\\n",
       "4247          -0.99195          -0.98045          -0.92928  ...     \n",
       "4248          -0.98991          -0.99505          -0.92928  ...     \n",
       "4249          -0.99400          -0.99360          -0.93139  ...     \n",
       "4250          -0.99395          -0.99560          -0.93139  ...     \n",
       "4251          -0.99310          -0.99755          -0.94040  ...     \n",
       "\n",
       "      fBodyBodyGyroJerkMag-skewness()  fBodyBodyGyroJerkMag-kurtosis()  \\\n",
       "4247                        -0.159950                         -0.58147   \n",
       "4248                         0.001457                         -0.38928   \n",
       "4249                        -0.340150                         -0.70291   \n",
       "4250                        -0.654810                         -0.89529   \n",
       "4251                        -0.638630                         -0.90262   \n",
       "\n",
       "      angle(tBodyAccMean,gravity)  angle(tBodyAccJerkMean),gravityMean)  \\\n",
       "4247                     0.045791                             -0.099945   \n",
       "4248                    -0.137840                             -0.110750   \n",
       "4249                    -0.095181                              0.302130   \n",
       "4250                    -0.481000                              0.511110   \n",
       "4251                    -0.000858                             -0.347720   \n",
       "\n",
       "      angle(tBodyGyroMean,gravityMean)  angle(tBodyGyroJerkMean,gravityMean)  \\\n",
       "4247                         -0.043437                              0.589010   \n",
       "4248                          0.231190                             -0.928130   \n",
       "4249                         -0.215320                             -0.292050   \n",
       "4250                         -0.276490                              0.020714   \n",
       "4251                         -0.786230                              0.343220   \n",
       "\n",
       "      angle(X,gravityMean)  angle(Y,gravityMean)  angle(Z,gravityMean)  label  \n",
       "4247               0.40391              -0.79032              -0.15759      6  \n",
       "4248               0.40142              -0.79099              -0.15530      6  \n",
       "4249               0.39991              -0.79018              -0.15549      6  \n",
       "4250               0.39891              -0.79000              -0.15515      6  \n",
       "4251               0.39846              -0.78996              -0.15494      6  \n",
       "\n",
       "[5 rows x 562 columns]"
      ]
     },
     "execution_count": 9,
     "metadata": {},
     "output_type": "execute_result"
    }
   ],
   "source": [
    "df_final_acc_train.shape[0] / df_final_y_train.shape[0]\n",
    "df = pd.concat([df_final_X_train, df_final_y_train], axis=1)\n",
    "df.tail()"
   ]
  },
  {
   "cell_type": "code",
   "execution_count": 10,
   "metadata": {},
   "outputs": [
    {
     "name": "stdout",
     "output_type": "stream",
     "text": [
      "(2848, 561) (1404, 561)\n"
     ]
    }
   ],
   "source": [
    "from sklearn.ensemble import RandomForestClassifier\n",
    "from sklearn.model_selection import train_test_split\n",
    "X, y = df.iloc[:, :-1], df.iloc[:, -1]\n",
    "X_train, X_test, y_train, y_test = train_test_split(X, y, \n",
    "                                                    test_size=0.33, \n",
    "                                                    stratify=y, \n",
    "                                                    random_state=0)\n",
    "print(X_train.shape, X_test.shape)"
   ]
  },
  {
   "cell_type": "code",
   "execution_count": 11,
   "metadata": {},
   "outputs": [
    {
     "data": {
      "text/plain": [
       "<matplotlib.axes._subplots.AxesSubplot at 0x18f831c8518>"
      ]
     },
     "execution_count": 11,
     "metadata": {},
     "output_type": "execute_result"
    },
    {
     "data": {
      "image/png": "[encoded data removed]",
      "text/plain": [
       "<Figure size 216x144 with 1 Axes>"
      ]
     },
     "metadata": {},
     "output_type": "display_data"
    }
   ],
   "source": [
    "y.map(labels['label'].to_dict()).value_counts().plot.barh(figsize=(3,2))"
   ]
  },
  {
   "cell_type": "code",
   "execution_count": 12,
   "metadata": {},
   "outputs": [
    {
     "data": {
      "text/plain": [
       "<matplotlib.axes._subplots.AxesSubplot at 0x18f895fbc50>"
      ]
     },
     "execution_count": 12,
     "metadata": {},
     "output_type": "execute_result"
    },
    {
     "data": {
      "image/png": "[encoded data removed]",
      "text/plain": [
       "<Figure size 216x144 with 1 Axes>"
      ]
     },
     "metadata": {},
     "output_type": "display_data"
    }
   ],
   "source": [
    "y.value_counts().plot.bar(figsize=(3,2))"
   ]
  },
  {
   "cell_type": "code",
   "execution_count": 13,
   "metadata": {},
   "outputs": [
    {
     "data": {
      "image/png": "[encoded data removed]",
      "text/plain": [
       "<Figure size 288x180 with 1 Axes>"
      ]
     },
     "metadata": {},
     "output_type": "display_data"
    },
    {
     "data": {
      "image/png": "[encoded data removed]",
      "text/plain": [
       "<Figure size 432x288 with 1 Axes>"
      ]
     },
     "metadata": {},
     "output_type": "display_data"
    }
   ],
   "source": [
    "from sklearn.decomposition import PCA\n",
    "from sklearn.preprocessing import StandardScaler\n",
    "scaler = StandardScaler()\n",
    "pca = PCA(n_components=70, random_state=42)\n",
    "pca.fit(scaler.fit_transform(df_final_X_train))\n",
    "df_pca = pca.transform(df_final_X_train)\n",
    "plt.figure(figsize=(4, 2.5))\n",
    "plt.plot(range(70), pca.explained_variance_ratio_.cumsum())\n",
    "plt.title('PCA explained variance ratio')\n",
    "plt.xlabel('number of features')\n",
    "plt.ylabel('explained variance ratio')\n",
    "\n",
    "plt.figure()\n",
    "for i in df_final_y_train.label.unique():\n",
    "    plt.scatter(df_pca[df_final_y_train.label == i, 0], \n",
    "                df_pca[df_final_y_train.label == i, 1], \n",
    "                )\n",
    "plt.show()"
   ]
  },
  {
   "cell_type": "code",
   "execution_count": 14,
   "metadata": {},
   "outputs": [
    {
     "name": "stderr",
     "output_type": "stream",
     "text": [
      "C:\\Users\\cyret\\Anaconda3\\lib\\site-packages\\sklearn\\utils\\validation.py:761: DataConversionWarning: A column-vector y was passed when a 1d array was expected. Please change the shape of y to (n_samples, ), for example using ravel().\n",
      "  y = column_or_1d(y, warn=True)\n",
      "C:\\Users\\cyret\\Anaconda3\\lib\\site-packages\\sklearn\\discriminant_analysis.py:388: UserWarning: Variables are collinear.\n",
      "  warnings.warn(\"Variables are collinear.\")\n"
     ]
    },
    {
     "data": {
      "image/png": "[encoded data removed]",
      "text/plain": [
       "<Figure size 432x288 with 1 Axes>"
      ]
     },
     "metadata": {},
     "output_type": "display_data"
    },
    {
     "data": {
      "image/png": "[encoded data removed]",
      "text/plain": [
       "<Figure size 432x288 with 1 Axes>"
      ]
     },
     "metadata": {},
     "output_type": "display_data"
    }
   ],
   "source": [
    "from sklearn.discriminant_analysis import LinearDiscriminantAnalysis\n",
    "lda = LinearDiscriminantAnalysis(n_components=70)\n",
    "lda.fit(scaler.fit_transform(df_final_X_train), df_final_y_train)\n",
    "df_lda = lda.transform(scaler.fit_transform(df_final_X_train))\n",
    "plt.figure()\n",
    "for i in df_final_y_train.label.unique():\n",
    "    plt.scatter(df_lda[df_final_y_train.label == i, 0], \n",
    "                df_lda[df_final_y_train.label == i, 1], \n",
    "                )\n",
    "plt.legend(pd.Series(df_final_y_train.label.unique()).map(labels['label']))\n",
    "plt.xlabel('component 0')\n",
    "plt.ylabel('compoennt 1')\n",
    "plt.show()\n",
    "\n",
    "plt.figure()\n",
    "for i in df_final_y_train.label.unique():\n",
    "    plt.scatter(df_lda[df_final_y_train.label == i, 0], \n",
    "                df_lda[df_final_y_train.label == i, 2], \n",
    "                )\n",
    "plt.legend(pd.Series(df_final_y_train.label.unique()).map(labels['label']), loc='best')\n",
    "plt.xlabel('component 0')\n",
    "plt.ylabel('compoennt 2')\n",
    "plt.show()"
   ]
  },
  {
   "cell_type": "markdown",
   "metadata": {},
   "source": [
    "Train a model based reduced features in PCA"
   ]
  },
  {
   "cell_type": "code",
   "execution_count": 15,
   "metadata": {},
   "outputs": [],
   "source": [
    "scaler = StandardScaler()\n",
    "pca = PCA(n_components=270, random_state=42)\n",
    "X_train_pca = pca.fit_transform(scaler.fit_transform(X_train))\n",
    "clf_pca = RandomForestClassifier(n_estimators=3000, max_depth=9).fit(X_train_pca, y_train)"
   ]
  },
  {
   "cell_type": "code",
   "execution_count": 16,
   "metadata": {},
   "outputs": [
    {
     "name": "stdout",
     "output_type": "stream",
     "text": [
      "Accuracy of Random Forest classifier on training set: 0.98\n",
      "Accuracy of Random Forest classifier on test set: 0.81\n"
     ]
    }
   ],
   "source": [
    "print('Accuracy of Random Forest classifier on training set: {:.2f}'\n",
    "     .format(clf_pca.score(X_train_pca, y_train)))\n",
    "print('Accuracy of Random Forest classifier on test set: {:.2f}'\n",
    "     .format(clf_pca.score(pca.transform(scaler.transform(X_test)), y_test)))"
   ]
  },
  {
   "cell_type": "code",
   "execution_count": 17,
   "metadata": {},
   "outputs": [
    {
     "data": {
      "text/plain": [
       "(2848, 270)"
      ]
     },
     "execution_count": 17,
     "metadata": {},
     "output_type": "execute_result"
    }
   ],
   "source": [
    "X_train_pca.shape"
   ]
  },
  {
   "cell_type": "code",
   "execution_count": 18,
   "metadata": {},
   "outputs": [
    {
     "name": "stderr",
     "output_type": "stream",
     "text": [
      "C:\\Users\\cyret\\Anaconda3\\lib\\site-packages\\sklearn\\discriminant_analysis.py:388: UserWarning: Variables are collinear.\n",
      "  warnings.warn(\"Variables are collinear.\")\n"
     ]
    }
   ],
   "source": [
    "lda = LinearDiscriminantAnalysis(n_components=270)\n",
    "lda.fit(scaler.fit_transform(X_train), y_train)\n",
    "X_train_lda = lda.transform(scaler.fit_transform(X_train))\n",
    "X_test_lda = lda.transform(scaler.fit_transform(X_test))\n",
    "clf_lda = RandomForestClassifier(n_estimators=3000, max_depth=9).fit(X_train_lda, y_train)"
   ]
  },
  {
   "cell_type": "code",
   "execution_count": 19,
   "metadata": {},
   "outputs": [
    {
     "name": "stdout",
     "output_type": "stream",
     "text": [
      "Accuracy of Random Forest classifier on training set: 0.97\n",
      "Accuracy of Random Forest classifier on test set: 0.79\n"
     ]
    }
   ],
   "source": [
    "print('Accuracy of Random Forest classifier on training set: {:.2f}'\n",
    "     .format(clf_lda.score(X_train_lda, y_train)))\n",
    "print('Accuracy of Random Forest classifier on test set: {:.2f}'\n",
    "     .format(clf_lda.score(X_test_lda, y_test)))"
   ]
  },
  {
   "cell_type": "code",
   "execution_count": 20,
   "metadata": {},
   "outputs": [
    {
     "name": "stdout",
     "output_type": "stream",
     "text": [
      "most_frequent class (dummy classifier) score 0.19586894586894588\n",
      "most_frequent class (dummy classifier)\n",
      " [[  0   0   0 254   0   0]\n",
      " [  0   0   0 208   0   0]\n",
      " [  0   0   0 228   0   0]\n",
      " [  0   0   0 275   0   0]\n",
      " [  0   0   0 256   0   0]\n",
      " [  0   0   0 183   0   0]]\n",
      "stratified class (dummy classifier) score 0.16666666666666666\n",
      "stratified class (dummy classifier)\n",
      " [[45 30 49 54 44 32]\n",
      " [36 37 41 38 35 21]\n",
      " [38 31 39 42 40 38]\n",
      " [58 41 43 62 48 23]\n",
      " [43 38 35 47 51 42]\n",
      " [33 26 23 43 37 21]]\n"
     ]
    }
   ],
   "source": [
    "from sklearn.dummy import DummyClassifier\n",
    "from sklearn.metrics import confusion_matrix\n",
    "# Negative class (0) is most frequent, \n",
    "for strategy in ['most_frequent', 'stratified']:\n",
    "    dummy_majority = DummyClassifier(strategy = strategy).fit(X_train, y_train)\n",
    "    confusion = confusion_matrix(y_test, dummy_majority.predict(X_test))\n",
    "\n",
    "    print('{} class (dummy classifier) score {}'.format(\n",
    "            strategy, dummy_majority.score(X_test, y_test))\n",
    "         )\n",
    "    print('{} class (dummy classifier)\\n {}'.format(strategy, confusion))"
   ]
  },
  {
   "cell_type": "code",
   "execution_count": null,
   "metadata": {},
   "outputs": [],
   "source": []
  },
  {
   "cell_type": "code",
   "execution_count": 21,
   "metadata": {},
   "outputs": [
    {
     "name": "stdout",
     "output_type": "stream",
     "text": [
      "Accuracy of Random Forest classifier on training set: 0.99\n",
      "Accuracy of Random Forest classifier on test set: 0.91\n"
     ]
    }
   ],
   "source": [
    "clf = RandomForestClassifier(n_estimators=3000, max_depth=9).fit(X_train, y_train)\n",
    "\n",
    "print('Accuracy of Random Forest classifier on training set: {:.2f}'\n",
    "     .format(clf.score(X_train, y_train)))\n",
    "print('Accuracy of Random Forest classifier on test set: {:.2f}'\n",
    "     .format(clf.score(X_test, y_test)))"
   ]
  },
  {
   "cell_type": "code",
   "execution_count": 22,
   "metadata": {},
   "outputs": [
    {
     "data": {
      "text/plain": [
       "(                label\n",
       " 0                    \n",
       " 1             WALKING\n",
       " 2    WALKING_UPSTAIRS\n",
       " 3  WALKING_DOWNSTAIRS\n",
       " 4             SITTING\n",
       " 5            STANDING\n",
       " 6              LAYING,\n",
       " array([1, 2, 3, 4, 5, 6], dtype=int64),\n",
       " label    SITTING\n",
       " Name: 4, dtype: object)"
      ]
     },
     "execution_count": 22,
     "metadata": {},
     "output_type": "execute_result"
    }
   ],
   "source": [
    "labels_name = [labels['label'].loc[_] for _ in clf.classes_]\n",
    "labels, clf.classes_, labels.loc[4]"
   ]
  },
  {
   "cell_type": "code",
   "execution_count": 23,
   "metadata": {
    "collapsed": true
   },
   "outputs": [
    {
     "data": {
      "text/plain": [
       "array([[243,   5,   6,   0,   0,   0],\n",
       "       [ 13, 188,   4,   0,   0,   3],\n",
       "       [ 13,  13, 200,   0,   2,   0],\n",
       "       [  0,   4,   0, 232,  37,   2],\n",
       "       [  2,   2,   0,  18, 234,   0],\n",
       "       [  0,   4,   0,   0,   0, 179]], dtype=int64)"
      ]
     },
     "metadata": {},
     "output_type": "display_data"
    },
    {
     "data": {
      "text/plain": [
       "Text(0,0.5,'Accuracy score')"
      ]
     },
     "execution_count": 23,
     "metadata": {},
     "output_type": "execute_result"
    },
    {
     "data": {
      "image/png": "[encoded data removed]",
      "text/plain": [
       "<Figure size 288x216 with 1 Axes>"
      ]
     },
     "metadata": {},
     "output_type": "display_data"
    },
    {
     "data": {
      "image/png": "[encoded data removed]",
      "text/plain": [
       "<Figure size 432x288 with 1 Axes>"
      ]
     },
     "metadata": {},
     "output_type": "display_data"
    }
   ],
   "source": [
    "from sklearn.metrics import f1_score, confusion_matrix, classification_report\n",
    "# sns.heatmap(confusion_matrix(y_test, clf.predict(X_test)))\n",
    "# display(pd.DataFrame(index=[labels['label'].loc[_] for _ in clf.classes_], \n",
    "#                      data=f1_score(y_test, clf.predict(X_test), average=None), \n",
    "#                      columns=['f1-score',]))\n",
    "display(confusion_matrix(y_test, clf.predict(X_test)))\n",
    "plt.figure(figsize=(4,3))\n",
    "plt.barh(pd.Series(clf.classes_).map(labels.label.to_dict()), f1_score(y_test, clf.predict(X_test), average=None))\n",
    "plt.ylabel('f1-score')\n",
    "plt.xlabel('activity')\n",
    "plt.title('f1-score')\n",
    "plt.figure()\n",
    "plt.bar(clf.classes_, clf.score(X_test, y_test))\n",
    "plt.ylabel('Accuracy score')"
   ]
  },
  {
   "cell_type": "markdown",
   "metadata": {},
   "source": [
    "https://scikit-learn.org/stable/modules/generated/sklearn.metrics.classification_report.html"
   ]
  },
  {
   "cell_type": "code",
   "execution_count": 24,
   "metadata": {},
   "outputs": [
    {
     "name": "stdout",
     "output_type": "stream",
     "text": [
      "                    f1-score  precision  recall  support\n",
      "WALKING                 0.93       0.90    0.96    254.0\n",
      "WALKING_UPSTAIRS        0.89       0.87    0.90    208.0\n",
      "WALKING_DOWNSTAIRS      0.91       0.95    0.88    228.0\n",
      "SITTING                 0.88       0.93    0.84    275.0\n",
      "STANDING                0.88       0.86    0.91    256.0\n",
      "LAYING                  0.98       0.97    0.98    183.0\n",
      "macro avg               0.91       0.91    0.91   1404.0\n",
      "micro avg               0.91       0.91    0.91   1404.0\n",
      "weighted avg            0.91       0.91    0.91   1404.0\n"
     ]
    }
   ],
   "source": [
    "report = classification_report(y_test, clf.predict(X_test), output_dict=True)\n",
    "report = pd.DataFrame(report\n",
    "                     ).transpose()\n",
    "report.index.values[:6] = labels['label'].tolist()\n",
    "print(round(report, 2))"
   ]
  },
  {
   "cell_type": "code",
   "execution_count": 25,
   "metadata": {},
   "outputs": [
    {
     "data": {
      "text/plain": [
       "<matplotlib.axes._subplots.AxesSubplot at 0x18f8471c208>"
      ]
     },
     "execution_count": 25,
     "metadata": {},
     "output_type": "execute_result"
    },
    {
     "data": {
      "image/png": "[encoded data removed]",
      "text/plain": [
       "<Figure size 432x288 with 1 Axes>"
      ]
     },
     "metadata": {},
     "output_type": "display_data"
    }
   ],
   "source": [
    "pd.DataFrame(clf.feature_importances_, X_test.columns, columns=[ 'impr']).nlargest(20, columns=['impr']).plot.barh()"
   ]
  },
  {
   "cell_type": "code",
   "execution_count": 26,
   "metadata": {},
   "outputs": [],
   "source": [
    "# clf.feature_importances_"
   ]
  },
  {
   "cell_type": "code",
   "execution_count": null,
   "metadata": {},
   "outputs": [],
   "source": []
  },
  {
   "cell_type": "code",
   "execution_count": 27,
   "metadata": {},
   "outputs": [
    {
     "name": "stdout",
     "output_type": "stream",
     "text": [
      "Accuracy of ANN classifier on training set: 1.00\n",
      "Accuracy of ANN classifier on test set: 0.91\n"
     ]
    },
    {
     "name": "stderr",
     "output_type": "stream",
     "text": [
      "C:\\Users\\cyret\\Anaconda3\\lib\\site-packages\\sklearn\\neural_network\\multilayer_perceptron.py:562: ConvergenceWarning: Stochastic Optimizer: Maximum iterations (200) reached and the optimization hasn't converged yet.\n",
      "  % self.max_iter, ConvergenceWarning)\n"
     ]
    }
   ],
   "source": [
    "from sklearn.neural_network import MLPClassifier\n",
    "clf = MLPClassifier(hidden_layer_sizes=(80,))\n",
    "clf.fit(X_train, y_train)\n",
    "\n",
    "print('Accuracy of ANN classifier on training set: {:.2f}'\n",
    "     .format(clf.score(X_train, y_train)))\n",
    "print('Accuracy of ANN classifier on test set: {:.2f}'\n",
    "     .format(clf.score(X_test, y_test)))"
   ]
  },
  {
   "cell_type": "code",
   "execution_count": 28,
   "metadata": {},
   "outputs": [
    {
     "name": "stdout",
     "output_type": "stream",
     "text": [
      "Accuracy of ANN classifier on training set: 1.00\n",
      "Accuracy of ANN classifier on test set: 0.93\n"
     ]
    }
   ],
   "source": [
    "from sklearn.neural_network import MLPClassifier\n",
    "clf = MLPClassifier(hidden_layer_sizes=(500, 200, 20),)\n",
    "clf.fit(X_train, y_train)\n",
    "\n",
    "print('Accuracy of ANN classifier on training set: {:.2f}'\n",
    "     .format(clf.score(X_train, y_train)))\n",
    "print('Accuracy of ANN classifier on test set: {:.2f}'\n",
    "     .format(clf.score(X_test, y_test)))"
   ]
  },
  {
   "cell_type": "code",
   "execution_count": 29,
   "metadata": {},
   "outputs": [],
   "source": [
    "# clf.loss_curve_\n",
    "# pd.concat([df_final_X_train, df_final_y_train], axis=1).to_csv(os.path.join(fpath, 'df_final_train.csv'), index=False)"
   ]
  },
  {
   "cell_type": "code",
   "execution_count": 30,
   "metadata": {},
   "outputs": [],
   "source": [
    "df_final_X_test = pd.read_csv(os.path.join(fpath, 'final_X_test.txt'), header=None)\n",
    "df_final_y_test = pd.read_csv(os.path.join(fpath, 'final_y_test.txt'), header=None)\n",
    "df_final_X_test.columns = feature_cols\n",
    "df_final_y_test.columns = ['label']\n",
    "df_final_test = pd.concat([df_final_X_test, df_final_y_test], axis=1)\n",
    "# df_final_test.to_csv(os.path.join(fpath, 'df_final_test.csv'), index=False)"
   ]
  },
  {
   "cell_type": "code",
   "execution_count": 25,
   "metadata": {},
   "outputs": [
    {
     "data": {
      "text/plain": [
       "(['activity_labels.txt',\n",
       "  'df_final_test.csv',\n",
       "  'df_final_train.csv',\n",
       "  'features.txt',\n",
       "  'features_info.txt',\n",
       "  'final_acc_test.txt',\n",
       "  'final_acc_train.txt',\n",
       "  'final_gyro_test.txt',\n",
       "  'final_gyro_train.txt',\n",
       "  'final_X_test.txt',\n",
       "  'final_X_train.txt',\n",
       "  'final_y_test.txt',\n",
       "  'final_y_train.txt',\n",
       "  'README.txt',\n",
       "  'waist_mounted_phone.PNG'],\n",
       " 'C:\\\\Users\\\\cyret\\\\Dropbox\\\\druid\\\\Druid Analysis',\n",
       " 'C:\\\\Users\\\\cyret\\\\Documents\\\\Python Scripts\\\\data\\\\human_data\\\\dataset_uci\\\\dataset_uci')"
      ]
     },
     "execution_count": 25,
     "metadata": {},
     "output_type": "execute_result"
    }
   ],
   "source": [
    "os.listdir(fpath), os.getcwd(), fpath"
   ]
  },
  {
   "cell_type": "markdown",
   "metadata": {},
   "source": [
    "## keras tensorflow"
   ]
  },
  {
   "cell_type": "code",
   "execution_count": 44,
   "metadata": {},
   "outputs": [],
   "source": [
    "from keras.models import Sequential\n",
    "from keras.layers import Dense, Dropout\n",
    "from keras.utils import np_utils"
   ]
  },
  {
   "cell_type": "markdown",
   "metadata": {},
   "source": [
    "When modeling multi-class classification problems using neural networks, it is good practice to reshape the output attribute from a vector that contains values for each class value to be a matrix with a boolean for each class value and whether or not a given instance has that class value or not.\n",
    "\n",
    "This is called one hot encoding or creating dummy variables from a categorical variable."
   ]
  },
  {
   "cell_type": "code",
   "execution_count": 60,
   "metadata": {},
   "outputs": [
    {
     "name": "stdout",
     "output_type": "stream",
     "text": [
      "(2848, 561) (1404, 561) (2848, 7) 6 [4 2 3 1 5 6]\n"
     ]
    },
    {
     "data": {
      "text/plain": [
       "array([[515., 421., 463., 559., 519., 371.]], dtype=float32)"
      ]
     },
     "execution_count": 60,
     "metadata": {},
     "output_type": "execute_result"
    }
   ],
   "source": [
    "input_dim = X_train.shape[1]\n",
    "num_classes = len(y_train.unique())\n",
    "y_train_oh = np_utils.to_categorical(y_train)\n",
    "y_test_oh = np_utils.to_categorical(y_test)\n",
    "\n",
    "print(X_train.shape, X_test.shape, y_train_oh.shape, num_classes, y_train.unique())\n",
    "# drop category 0, because np_utils.to_cat always start from 0 (label_encoder(y)), here orignal y starts from 1\n",
    "y_train_oh = y_train_oh[:, 1:]\n",
    "y_test_oh = y_test_oh[:, 1:]\n",
    "y_train_oh.sum(axis=0, keepdims=True)"
   ]
  },
  {
   "cell_type": "code",
   "execution_count": 70,
   "metadata": {},
   "outputs": [],
   "source": [
    "model = Sequential()\n",
    "model.add(Dense(64*8, input_dim=input_dim, activation='relu'))\n",
    "model.add(Dropout(0.5))\n",
    "model.add(Dense(64*8, activation='relu'))\n",
    "model.add(Dropout(0.5))\n",
    "model.add(Dense(64, activation='relu'))\n",
    "model.add(Dropout(0.5))\n",
    "# model.add(Dense(1, activation='sigmoid'))\n",
    "model.add(Dense(num_classes, activation='softmax')) "
   ]
  },
  {
   "cell_type": "code",
   "execution_count": 71,
   "metadata": {},
   "outputs": [],
   "source": [
    "model.compile(loss='categorical_crossentropy', #'binary_crossentropy',\n",
    "              optimizer='rmsprop',\n",
    "              metrics=['accuracy'])"
   ]
  },
  {
   "cell_type": "code",
   "execution_count": 72,
   "metadata": {},
   "outputs": [
    {
     "name": "stdout",
     "output_type": "stream",
     "text": [
      "Epoch 1/80\n",
      "2848/2848 [==============================] - 1s 305us/step - loss: 1.6187 - acc: 0.3055\n",
      "Epoch 2/80\n",
      "2848/2848 [==============================] - 0s 172us/step - loss: 1.2730 - acc: 0.3947\n",
      "Epoch 3/80\n",
      "2848/2848 [==============================] - 0s 168us/step - loss: 1.1160 - acc: 0.4782\n",
      "Epoch 4/80\n",
      "2848/2848 [==============================] - 0s 174us/step - loss: 1.0133 - acc: 0.5302\n",
      "Epoch 5/80\n",
      "2848/2848 [==============================] - 1s 179us/step - loss: 0.9129 - acc: 0.5825\n",
      "Epoch 6/80\n",
      "2848/2848 [==============================] - 1s 198us/step - loss: 0.8614 - acc: 0.6162\n",
      "Epoch 7/80\n",
      "2848/2848 [==============================] - 1s 188us/step - loss: 0.8156 - acc: 0.6419\n",
      "Epoch 8/80\n",
      "2848/2848 [==============================] - 1s 190us/step - loss: 0.7314 - acc: 0.6959\n",
      "Epoch 9/80\n",
      "2848/2848 [==============================] - 1s 226us/step - loss: 0.6994 - acc: 0.7195\n",
      "Epoch 10/80\n",
      "2848/2848 [==============================] - 1s 213us/step - loss: 0.6947 - acc: 0.7149\n",
      "Epoch 11/80\n",
      "2848/2848 [==============================] - 1s 196us/step - loss: 0.6538 - acc: 0.7282\n",
      "Epoch 12/80\n",
      "2848/2848 [==============================] - 1s 200us/step - loss: 0.6067 - acc: 0.7486\n",
      "Epoch 13/80\n",
      "2848/2848 [==============================] - 1s 197us/step - loss: 0.6232 - acc: 0.7444\n",
      "Epoch 14/80\n",
      "2848/2848 [==============================] - 1s 183us/step - loss: 0.5717 - acc: 0.7707\n",
      "Epoch 15/80\n",
      "2848/2848 [==============================] - 1s 188us/step - loss: 0.5729 - acc: 0.7690\n",
      "Epoch 16/80\n",
      "2848/2848 [==============================] - 1s 193us/step - loss: 0.5563 - acc: 0.7749\n",
      "Epoch 17/80\n",
      "2848/2848 [==============================] - 1s 185us/step - loss: 0.5340 - acc: 0.7858\n",
      "Epoch 18/80\n",
      "2848/2848 [==============================] - 1s 192us/step - loss: 0.4888 - acc: 0.8058\n",
      "Epoch 19/80\n",
      "2848/2848 [==============================] - 1s 208us/step - loss: 0.5098 - acc: 0.7879\n",
      "Epoch 20/80\n",
      "2848/2848 [==============================] - 1s 239us/step - loss: 0.4592 - acc: 0.8188\n",
      "Epoch 21/80\n",
      "2848/2848 [==============================] - 1s 243us/step - loss: 0.4810 - acc: 0.8164\n",
      "Epoch 22/80\n",
      "2848/2848 [==============================] - 1s 212us/step - loss: 0.4670 - acc: 0.8083\n",
      "Epoch 23/80\n",
      "2848/2848 [==============================] - 1s 192us/step - loss: 0.4449 - acc: 0.8192\n",
      "Epoch 24/80\n",
      "2848/2848 [==============================] - 1s 214us/step - loss: 0.4432 - acc: 0.8171\n",
      "Epoch 25/80\n",
      "2848/2848 [==============================] - 1s 194us/step - loss: 0.4445 - acc: 0.8272\n",
      "Epoch 26/80\n",
      "2848/2848 [==============================] - 1s 184us/step - loss: 0.4124 - acc: 0.8388\n",
      "Epoch 27/80\n",
      "2848/2848 [==============================] - 1s 181us/step - loss: 0.4424 - acc: 0.8301\n",
      "Epoch 28/80\n",
      "2848/2848 [==============================] - 0s 160us/step - loss: 0.4234 - acc: 0.8301\n",
      "Epoch 29/80\n",
      "2848/2848 [==============================] - 0s 167us/step - loss: 0.3988 - acc: 0.8353\n",
      "Epoch 30/80\n",
      "2848/2848 [==============================] - 1s 197us/step - loss: 0.3887 - acc: 0.8406\n",
      "Epoch 31/80\n",
      "2848/2848 [==============================] - 1s 197us/step - loss: 0.4289 - acc: 0.8399\n",
      "Epoch 32/80\n",
      "2848/2848 [==============================] - 1s 176us/step - loss: 0.3895 - acc: 0.8490\n",
      "Epoch 33/80\n",
      "2848/2848 [==============================] - 0s 162us/step - loss: 0.3899 - acc: 0.8438\n",
      "Epoch 34/80\n",
      "2848/2848 [==============================] - 0s 168us/step - loss: 0.3762 - acc: 0.8543\n",
      "Epoch 35/80\n",
      "2848/2848 [==============================] - 0s 172us/step - loss: 0.3679 - acc: 0.8483\n",
      "Epoch 36/80\n",
      "2848/2848 [==============================] - 1s 216us/step - loss: 0.3739 - acc: 0.8557\n",
      "Epoch 37/80\n",
      "2848/2848 [==============================] - 0s 172us/step - loss: 0.3588 - acc: 0.8613\n",
      "Epoch 38/80\n",
      "2848/2848 [==============================] - 0s 164us/step - loss: 0.3793 - acc: 0.8546\n",
      "Epoch 39/80\n",
      "2848/2848 [==============================] - 0s 163us/step - loss: 0.3799 - acc: 0.8445\n",
      "Epoch 40/80\n",
      "2848/2848 [==============================] - 0s 161us/step - loss: 0.3394 - acc: 0.8638\n",
      "Epoch 41/80\n",
      "2848/2848 [==============================] - 0s 163us/step - loss: 0.3341 - acc: 0.8708\n",
      "Epoch 42/80\n",
      "2848/2848 [==============================] - 0s 160us/step - loss: 0.3566 - acc: 0.8511\n",
      "Epoch 43/80\n",
      "2848/2848 [==============================] - 0s 165us/step - loss: 0.3625 - acc: 0.8567\n",
      "Epoch 44/80\n",
      "2848/2848 [==============================] - 0s 168us/step - loss: 0.3399 - acc: 0.8669\n",
      "Epoch 45/80\n",
      "2848/2848 [==============================] - 0s 162us/step - loss: 0.3028 - acc: 0.8785\n",
      "Epoch 46/80\n",
      "2848/2848 [==============================] - 0s 162us/step - loss: 0.3080 - acc: 0.8764\n",
      "Epoch 47/80\n",
      "2848/2848 [==============================] - 0s 173us/step - loss: 0.3644 - acc: 0.8655\n",
      "Epoch 48/80\n",
      "2848/2848 [==============================] - 1s 198us/step - loss: 0.3223 - acc: 0.8757\n",
      "Epoch 49/80\n",
      "2848/2848 [==============================] - 1s 211us/step - loss: 0.3305 - acc: 0.8683\n",
      "Epoch 50/80\n",
      "2848/2848 [==============================] - 1s 204us/step - loss: 0.3052 - acc: 0.8732\n",
      "Epoch 51/80\n",
      "2848/2848 [==============================] - 1s 190us/step - loss: 0.2996 - acc: 0.8796\n",
      "Epoch 52/80\n",
      "2848/2848 [==============================] - 0s 175us/step - loss: 0.3457 - acc: 0.8697\n",
      "Epoch 53/80\n",
      "2848/2848 [==============================] - 1s 209us/step - loss: 0.2947 - acc: 0.8855\n",
      "Epoch 54/80\n",
      "2848/2848 [==============================] - 1s 195us/step - loss: 0.2688 - acc: 0.8919\n",
      "Epoch 55/80\n",
      "2848/2848 [==============================] - 1s 208us/step - loss: 0.2941 - acc: 0.8834\n",
      "Epoch 56/80\n",
      "2848/2848 [==============================] - 1s 184us/step - loss: 0.2928 - acc: 0.8936\n",
      "Epoch 57/80\n",
      "2848/2848 [==============================] - 0s 176us/step - loss: 0.3118 - acc: 0.8771\n",
      "Epoch 58/80\n",
      "2848/2848 [==============================] - 1s 217us/step - loss: 0.2644 - acc: 0.8908\n",
      "Epoch 59/80\n",
      "2848/2848 [==============================] - 1s 235us/step - loss: 0.2911 - acc: 0.8866\n",
      "Epoch 60/80\n",
      "2848/2848 [==============================] - 1s 212us/step - loss: 0.2901 - acc: 0.8848\n",
      "Epoch 61/80\n",
      "2848/2848 [==============================] - 1s 216us/step - loss: 0.2444 - acc: 0.8975\n",
      "Epoch 62/80\n",
      "2848/2848 [==============================] - 1s 191us/step - loss: 0.2826 - acc: 0.8929\n",
      "Epoch 63/80\n",
      "2848/2848 [==============================] - 1s 180us/step - loss: 0.2788 - acc: 0.8880\n",
      "Epoch 64/80\n",
      "2848/2848 [==============================] - 1s 182us/step - loss: 0.2833 - acc: 0.8922\n",
      "Epoch 65/80\n",
      "2848/2848 [==============================] - 1s 183us/step - loss: 0.2851 - acc: 0.8936\n",
      "Epoch 66/80\n",
      "2848/2848 [==============================] - 1s 215us/step - loss: 0.2864 - acc: 0.8887\n",
      "Epoch 67/80\n",
      "2848/2848 [==============================] - 1s 213us/step - loss: 0.2722 - acc: 0.8897\n",
      "Epoch 68/80\n",
      "2848/2848 [==============================] - 1s 193us/step - loss: 0.2891 - acc: 0.8940\n",
      "Epoch 69/80\n",
      "2848/2848 [==============================] - 1s 202us/step - loss: 0.2671 - acc: 0.8926\n",
      "Epoch 70/80\n",
      "2848/2848 [==============================] - 1s 185us/step - loss: 0.2612 - acc: 0.8985\n",
      "Epoch 71/80\n",
      "2848/2848 [==============================] - 1s 180us/step - loss: 0.2893 - acc: 0.8912\n",
      "Epoch 72/80\n",
      "2848/2848 [==============================] - 1s 180us/step - loss: 0.2558 - acc: 0.8982\n",
      "Epoch 73/80\n",
      "2848/2848 [==============================] - 1s 178us/step - loss: 0.2612 - acc: 0.9013\n",
      "Epoch 74/80\n",
      "2848/2848 [==============================] - 1s 183us/step - loss: 0.2467 - acc: 0.9020\n",
      "Epoch 75/80\n",
      "2848/2848 [==============================] - 1s 199us/step - loss: 0.2457 - acc: 0.9010\n",
      "Epoch 76/80\n",
      "2848/2848 [==============================] - 1s 220us/step - loss: 0.2626 - acc: 0.8971\n",
      "Epoch 77/80\n",
      "2848/2848 [==============================] - 1s 178us/step - loss: 0.2214 - acc: 0.9098\n",
      "Epoch 78/80\n",
      "2848/2848 [==============================] - 1s 180us/step - loss: 0.2698 - acc: 0.9003\n",
      "Epoch 79/80\n",
      "2848/2848 [==============================] - 1s 199us/step - loss: 0.2752 - acc: 0.8940\n",
      "Epoch 80/80\n",
      "2848/2848 [==============================] - 1s 176us/step - loss: 0.2229 - acc: 0.9059\n",
      "1404/1404 [==============================] - 0s 129us/step\n"
     ]
    }
   ],
   "source": [
    "history = model.fit(X_train, y_train_oh,\n",
    "          epochs=80,\n",
    "          batch_size=128)\n",
    "# score = model.evaluate(X_test, y_test_oh, batch_size=128)"
   ]
  },
  {
   "cell_type": "code",
   "execution_count": 68,
   "metadata": {},
   "outputs": [
    {
     "name": "stdout",
     "output_type": "stream",
     "text": [
      "_________________________________________________________________\n",
      "Layer (type)                 Output Shape              Param #   \n",
      "=================================================================\n",
      "dense_15 (Dense)             (None, 512)               287744    \n",
      "_________________________________________________________________\n",
      "dropout_11 (Dropout)         (None, 512)               0         \n",
      "_________________________________________________________________\n",
      "dense_16 (Dense)             (None, 512)               262656    \n",
      "_________________________________________________________________\n",
      "dropout_12 (Dropout)         (None, 512)               0         \n",
      "_________________________________________________________________\n",
      "dense_17 (Dense)             (None, 64)                32832     \n",
      "_________________________________________________________________\n",
      "dropout_13 (Dropout)         (None, 64)                0         \n",
      "_________________________________________________________________\n",
      "dense_18 (Dense)             (None, 6)                 390       \n",
      "=================================================================\n",
      "Total params: 583,622\n",
      "Trainable params: 583,622\n",
      "Non-trainable params: 0\n",
      "_________________________________________________________________\n",
      "None\n"
     ]
    }
   ],
   "source": [
    "print(model.summary())"
   ]
  },
  {
   "cell_type": "code",
   "execution_count": 78,
   "metadata": {},
   "outputs": [
    {
     "data": {
      "image/png": "[encoded data removed]",
      "text/plain": [
       "<Figure size 432x288 with 1 Axes>"
      ]
     },
     "metadata": {},
     "output_type": "display_data"
    }
   ],
   "source": [
    "pd.DataFrame(history.history).plot()\n",
    "plt.xlabel('epoch')\n",
    "plt.grid()"
   ]
  },
  {
   "cell_type": "markdown",
   "metadata": {},
   "source": [
    "### accuracy score using keras tensorflow"
   ]
  },
  {
   "cell_type": "code",
   "execution_count": 67,
   "metadata": {},
   "outputs": [
    {
     "name": "stdout",
     "output_type": "stream",
     "text": [
      "2848/2848 [==============================] - 0s 42us/step\n",
      "1404/1404 [==============================] - 0s 46us/step\n"
     ]
    },
    {
     "data": {
      "text/plain": [
       "([0.1707181821713287, 0.9188904494382022],\n",
       " [0.3902825416832568, 0.8682336199317563])"
      ]
     },
     "execution_count": 67,
     "metadata": {},
     "output_type": "execute_result"
    }
   ],
   "source": [
    "#Returns the loss value & metrics values for the model in test mode\n",
    "model.evaluate(X_train, y_train_oh, batch_size=128), model.evaluate(X_test, y_test_oh, batch_size=128)"
   ]
  },
  {
   "cell_type": "markdown",
   "metadata": {},
   "source": [
    "## use pyspark for classification"
   ]
  },
  {
   "cell_type": "code",
   "execution_count": 12,
   "metadata": {},
   "outputs": [],
   "source": [
    "import pyspark\n",
    "import os\n",
    "import findspark\n",
    "findspark.init()\n",
    "\n",
    "from pyspark.sql import SparkSession\n",
    "spark = SparkSession.builder.appName('data_processing').getOrCreate()"
   ]
  },
  {
   "cell_type": "code",
   "execution_count": 2,
   "metadata": {},
   "outputs": [],
   "source": [
    "# df_sp_final_X_train =spark.read.csv(os.path.join(fpath, 'final_X_train.txt'),inferSchema=True, header=False, ignoreLeadingWhiteSpace=True)\n",
    "# df_sp_final_y_train =spark.read.csv(os.path.join(fpath, 'final_y_train.txt'),inferSchema=True, header=False, ignoreLeadingWhiteSpace=True)\n",
    "# for old, new in zip(df_sp_final_X_train.columns, feature_cols):\n",
    "# #     print(old, new)\n",
    "#     df_sp_final_X_train = df_sp_final_X_train.withColumnRenamed(old, new)\n",
    "# df_sp_final_y_train = df_sp_final_y_train.withColumnRenamed(df_sp_final_y_train.columns[0], 'label')\n",
    "# df_sp_final_X_train.columns, df_sp_final_y_train.columns"
   ]
  },
  {
   "cell_type": "code",
   "execution_count": 16,
   "metadata": {},
   "outputs": [
    {
     "data": {
      "text/plain": [
       "4252"
      ]
     },
     "execution_count": 16,
     "metadata": {},
     "output_type": "execute_result"
    }
   ],
   "source": [
    "df_sp_final_train = spark.read.csv(os.path.join(fpath, 'df_final_train.csv'),inferSchema=True, header=True, ignoreLeadingWhiteSpace=True)\n",
    "df_sp_final_train.count()"
   ]
  },
  {
   "cell_type": "code",
   "execution_count": 17,
   "metadata": {},
   "outputs": [
    {
     "data": {
      "text/plain": [
       "1492"
      ]
     },
     "execution_count": 17,
     "metadata": {},
     "output_type": "execute_result"
    }
   ],
   "source": [
    "df_sp_final_test = spark.read.csv(os.path.join(fpath, 'df_final_test.csv'),inferSchema=True, header=True, ignoreLeadingWhiteSpace=True)\n",
    "df_sp_final_test.count()"
   ]
  },
  {
   "cell_type": "code",
   "execution_count": 18,
   "metadata": {},
   "outputs": [
    {
     "data": {
      "text/plain": [
       "['angle(tBodyGyroJerkMean,gravityMean)',\n",
       " 'angle(X,gravityMean)',\n",
       " 'angle(Y,gravityMean)',\n",
       " 'angle(Z,gravityMean)',\n",
       " 'label']"
      ]
     },
     "execution_count": 18,
     "metadata": {},
     "output_type": "execute_result"
    }
   ],
   "source": [
    "df_new = df_sp_final_train\n",
    "df_new.columns[-5:]"
   ]
  },
  {
   "cell_type": "code",
   "execution_count": 19,
   "metadata": {},
   "outputs": [
    {
     "name": "stdout",
     "output_type": "stream",
     "text": [
      "4252 562\n"
     ]
    }
   ],
   "source": [
    "from pyspark.ml.linalg import Vector\n",
    "from pyspark.ml.feature import VectorAssembler\n",
    "vec_assembler = VectorAssembler(inputCols=df_new.columns, outputCol='features')\n",
    "# df_new.printSchema()\n",
    "print(df_new.count(), len(df_new.columns))\n",
    "df_feature = vec_assembler.transform(df_new)\n",
    "# df_feature.show(5)"
   ]
  },
  {
   "cell_type": "code",
   "execution_count": 20,
   "metadata": {},
   "outputs": [],
   "source": [
    "df_feature_test = vec_assembler.transform(df_sp_final_test)"
   ]
  },
  {
   "cell_type": "code",
   "execution_count": 21,
   "metadata": {},
   "outputs": [],
   "source": [
    "from pyspark.ml.classification import RandomForestClassifier\n",
    "rf_sp_ml = RandomForestClassifier(featuresCol='features', \n",
    "                                 labelCol='label', numTrees=100).fit(df_feature)"
   ]
  },
  {
   "cell_type": "code",
   "execution_count": 22,
   "metadata": {},
   "outputs": [
    {
     "data": {
      "text/plain": [
       "466"
      ]
     },
     "execution_count": 22,
     "metadata": {},
     "output_type": "execute_result"
    }
   ],
   "source": [
    "predictions = rf_sp_ml.transform(df_feature_test)\n",
    "# predictions.show(5)\n",
    "rf_sp_ml.featureImportances.values.argmax()"
   ]
  },
  {
   "cell_type": "code",
   "execution_count": 23,
   "metadata": {},
   "outputs": [
    {
     "name": "stdout",
     "output_type": "stream",
     "text": [
      "+-----+\n",
      "|label|\n",
      "+-----+\n",
      "|    4|\n",
      "|    4|\n",
      "|    4|\n",
      "|    4|\n",
      "|    4|\n",
      "+-----+\n",
      "only showing top 5 rows\n",
      "\n"
     ]
    }
   ],
   "source": [
    "predictions.select('label').show(5)"
   ]
  },
  {
   "cell_type": "code",
   "execution_count": 24,
   "metadata": {},
   "outputs": [
    {
     "data": {
      "text/plain": [
       "['label', 'features', 'rawPrediction', 'probability', 'prediction']"
      ]
     },
     "execution_count": 24,
     "metadata": {},
     "output_type": "execute_result"
    }
   ],
   "source": [
    "predictions.columns[-5:]"
   ]
  },
  {
   "cell_type": "code",
   "execution_count": 25,
   "metadata": {},
   "outputs": [
    {
     "name": "stdout",
     "output_type": "stream",
     "text": [
      "f1_score on test data = 0.881744\n"
     ]
    }
   ],
   "source": [
    "from pyspark.ml.evaluation import RegressionEvaluator, MulticlassClassificationEvaluator\n",
    "evaluator = MulticlassClassificationEvaluator(\n",
    "    labelCol=\"label\", predictionCol=\"prediction\", metricName=\"f1\")\n",
    "f1_score = evaluator.evaluate(predictions)\n",
    "print(\"f1_score on test data = %g\" % f1_score)"
   ]
  },
  {
   "cell_type": "code",
   "execution_count": null,
   "metadata": {},
   "outputs": [],
   "source": []
  },
  {
   "cell_type": "code",
   "execution_count": null,
   "metadata": {},
   "outputs": [],
   "source": []
  }
 ],
 "metadata": {
  "kernelspec": {
   "display_name": "Python 3",
   "language": "python",
   "name": "python3"
  },
  "language_info": {
   "codemirror_mode": {
    "name": "ipython",
    "version": 3
   },
   "file_extension": ".py",
   "mimetype": "text/x-python",
   "name": "python",
   "nbconvert_exporter": "python",
   "pygments_lexer": "ipython3",
   "version": "3.6.2"
  }
 },
 "nbformat": 4,
 "nbformat_minor": 2
}
