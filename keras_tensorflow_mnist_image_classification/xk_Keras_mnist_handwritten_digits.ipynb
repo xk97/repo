{
 "cells": [
  {
   "cell_type": "markdown",
   "metadata": {},
   "source": [
    "# Deep Learning Image Recognition (Image classification) :  TensorFlow, and Keras  \n",
    "THE MNIST DATABASE \n",
    "(short for Mixed National Institute of Standards and Technology database)  \n",
    "of handwritten digits  \n",
    "http://yann.lecun.com/exdb/mnist/  \n",
    "The MNIST database of handwritten digits, available from this page, has a training set of 60,000 examples, and a test set of 10,000 examples. It is a subset of a larger set available from NIST. The digits have been size-normalized and centered in a fixed-size image.\n",
    "It is a good database for people who want to try learning techniques and pattern recognition methods on real-world data while spending minimal efforts on preprocessing and formatting.  \n",
    "The original black and white (bilevel) images from NIST were size normalized to fit in a 20x20 pixel box while preserving their aspect ratio. The resulting images contain grey levels as a result of the anti-aliasing technique used by the normalization algorithm. the images were centered in a 28x28 image by computing the center of mass of the pixels, and translating the image so as to position this point at the center of the 28x28 field. Here, we unroll the 28×28 pixels into 1D row vectors, which represent the rows in our image array (784 per row or image)."
   ]
  },
  {
   "cell_type": "code",
   "execution_count": 33,
   "metadata": {
    "collapsed": true
   },
   "outputs": [],
   "source": [
    "import os\n",
    "import struct\n",
    "import numpy as np\n",
    "import pandas as pd\n",
    "import matplotlib.pyplot as plt\n",
    "%matplotlib inline"
   ]
  },
  {
   "cell_type": "code",
   "execution_count": 9,
   "metadata": {
    "collapsed": true
   },
   "outputs": [],
   "source": [
    "\n",
    "def load_mnist(path, kind='train'):\n",
    "    \"\"\"Load MNIST data from `path`\"\"\"\n",
    "    labels_path = os.path.join(path, \n",
    "                               '%s-labels-idx1-ubyte' % kind)\n",
    "    images_path = os.path.join(path, \n",
    "                               '%s-images-idx3-ubyte' % kind)\n",
    "        \n",
    "    with open(labels_path, 'rb') as lbpath:\n",
    "        magic, n = struct.unpack('>II', \n",
    "                                 lbpath.read(8))\n",
    "        labels = np.fromfile(lbpath, \n",
    "                             dtype=np.uint8)\n",
    "\n",
    "    with open(images_path, 'rb') as imgpath:\n",
    "        magic, num, rows, cols = struct.unpack(\">IIII\", \n",
    "                                               imgpath.read(16))\n",
    "        images = np.fromfile(imgpath, \n",
    "                        dtype=np.uint8).reshape(len(labels), 784)\n",
    " \n",
    "    return images, labels"
   ]
  },
  {
   "cell_type": "code",
   "execution_count": 10,
   "metadata": {},
   "outputs": [
    {
     "name": "stdout",
     "output_type": "stream",
     "text": [
      "['script.py', 't10k-images-idx3-ubyte.gz', 't10k-images.idx3-ubyte', 't10k-labels-idx1-ubyte.gz', 'train-images-idx3-ubyte', 'train-images-idx3-ubyte.gz', 'train-labels-idx1-ubyte', 'train-labels-idx1-ubyte.gz']\n"
     ]
    },
    {
     "data": {
      "text/plain": [
       "(60000, 784)"
      ]
     },
     "execution_count": 10,
     "metadata": {},
     "output_type": "execute_result"
    }
   ],
   "source": [
    "print(os.listdir('./Data/mnist_handwritten_digits/'))\n",
    "X_train, y_train = load_mnist('./Data/mnist_handwritten_digits/', kind='train')\n",
    "X_train.shape[0], X_train.shape[1]"
   ]
  },
  {
   "cell_type": "code",
   "execution_count": 12,
   "metadata": {},
   "outputs": [
    {
     "data": {
      "text/plain": [
       "(10000, 784)"
      ]
     },
     "execution_count": 12,
     "metadata": {},
     "output_type": "execute_result"
    }
   ],
   "source": [
    "X_test, y_test = load_mnist('./Data/mnist_handwritten_digits/', kind='t10k')\n",
    "X_test.shape[0], X_test.shape[1]"
   ]
  },
  {
   "cell_type": "code",
   "execution_count": 35,
   "metadata": {},
   "outputs": [
    {
     "data": {
      "image/png": "[encoded data removed]",
      "text/plain": [
       "<matplotlib.figure.Figure at 0xf722860>"
      ]
     },
     "metadata": {},
     "output_type": "display_data"
    }
   ],
   "source": [
    "fig, ax = plt.subplots(nrows=2, ncols=5, sharex=True, sharey=True)\n",
    "ax = ax.flatten()\n",
    "for i in range(10):\n",
    "    img = X_train[y_train == i][0].reshape(28, 28)\n",
    "    ax[i].imshow(img, cmap='Greys', interpolation='nearest')\n",
    "ax[0].set_xticks([])\n",
    "ax[0].set_yticks([])\n",
    "plt.tight_layout()"
   ]
  },
  {
   "cell_type": "code",
   "execution_count": 36,
   "metadata": {},
   "outputs": [
    {
     "data": {
      "text/plain": [
       "[]"
      ]
     },
     "execution_count": 36,
     "metadata": {},
     "output_type": "execute_result"
    },
    {
     "data": {
      "image/png": "[encoded data removed]",
      "text/plain": [
       "<matplotlib.figure.Figure at 0xf82f6d8>"
      ]
     },
     "metadata": {},
     "output_type": "display_data"
    }
   ],
   "source": [
    "fig, ax = plt.subplots(nrows=5, ncols=5, sharex=True, sharey=True,)\n",
    "ax = ax.flatten()\n",
    "for i in range(25):\n",
    "    img = X_train[y_train == 4][i].reshape(28, 28)\n",
    "    ax[i].imshow(img, cmap='Greys', interpolation='nearest')\n",
    "ax[0].set_xticks([])\n",
    "ax[0].set_yticks([])"
   ]
  },
  {
   "cell_type": "code",
   "execution_count": 37,
   "metadata": {},
   "outputs": [
    {
     "data": {
      "text/plain": [
       "LogisticRegression(C=1.0, class_weight=None, dual=False, fit_intercept=True,\n",
       "          intercept_scaling=1, max_iter=100, multi_class='ovr', n_jobs=1,\n",
       "          penalty='l2', random_state=None, solver='newton-cg', tol=0.0001,\n",
       "          verbose=0, warm_start=False)"
      ]
     },
     "execution_count": 37,
     "metadata": {},
     "output_type": "execute_result"
    }
   ],
   "source": [
    "from sklearn.linear_model import LogisticRegression\n",
    "lr = LogisticRegression(penalty='l2', multi_class='ovr', solver='newton-cg')\n",
    "lr.fit(X_train[:1000, :], y_train[:1000])"
   ]
  },
  {
   "cell_type": "code",
   "execution_count": 38,
   "metadata": {},
   "outputs": [
    {
     "data": {
      "text/plain": [
       "(0.84230000000000005, 0.8383666666666667)"
      ]
     },
     "execution_count": 38,
     "metadata": {},
     "output_type": "execute_result"
    }
   ],
   "source": [
    "lr.score(X_test, y_test), lr.score(X_train, y_train)"
   ]
  },
  {
   "cell_type": "markdown",
   "metadata": {},
   "source": [
    "# keras with TensorFlow as backend"
   ]
  },
  {
   "cell_type": "code",
   "execution_count": 56,
   "metadata": {},
   "outputs": [
    {
     "data": {
      "text/plain": [
       "(array([5, 0, 4, 1, 9, 2, 1, 3, 1, 4], dtype=uint8),\n",
       " array([[ 0.,  0.,  0.,  0.,  0.,  1.,  0.,  0.,  0.,  0.],\n",
       "        [ 1.,  0.,  0.,  0.,  0.,  0.,  0.,  0.,  0.,  0.],\n",
       "        [ 0.,  0.,  0.,  0.,  1.,  0.,  0.,  0.,  0.,  0.],\n",
       "        [ 0.,  1.,  0.,  0.,  0.,  0.,  0.,  0.,  0.,  0.],\n",
       "        [ 0.,  0.,  0.,  0.,  0.,  0.,  0.,  0.,  0.,  1.],\n",
       "        [ 0.,  0.,  1.,  0.,  0.,  0.,  0.,  0.,  0.,  0.],\n",
       "        [ 0.,  1.,  0.,  0.,  0.,  0.,  0.,  0.,  0.,  0.],\n",
       "        [ 0.,  0.,  0.,  1.,  0.,  0.,  0.,  0.,  0.,  0.],\n",
       "        [ 0.,  1.,  0.,  0.,  0.,  0.,  0.,  0.,  0.,  0.],\n",
       "        [ 0.,  0.,  0.,  0.,  1.,  0.,  0.,  0.,  0.,  0.]]))"
      ]
     },
     "execution_count": 56,
     "metadata": {},
     "output_type": "execute_result"
    }
   ],
   "source": [
    "# one-hot encoding class labels\n",
    "from keras.utils import np_utils\n",
    "# y_train_OneHotEncoding = pd.get_dummies(y_train)\n",
    "y_train_OneHotEncoding = np_utils.to_categorical(y_train) \n",
    "\n",
    "y_train[:10], y_train_OneHotEncoding[:10]"
   ]
  },
  {
   "cell_type": "code",
   "execution_count": 57,
   "metadata": {},
   "outputs": [
    {
     "name": "stderr",
     "output_type": "stream",
     "text": [
      "C:\\Users\\Xianhui\\Anaconda3\\lib\\site-packages\\ipykernel\\__main__.py:11: UserWarning: Update your `Dense` call to the Keras 2 API: `Dense(input_dim=784, activation=\"tanh\", units=50, kernel_initializer=\"uniform\")`\n",
      "C:\\Users\\Xianhui\\Anaconda3\\lib\\site-packages\\ipykernel\\__main__.py:16: UserWarning: Update your `Dense` call to the Keras 2 API: `Dense(input_dim=50, activation=\"tanh\", units=50, kernel_initializer=\"uniform\")`\n",
      "C:\\Users\\Xianhui\\Anaconda3\\lib\\site-packages\\ipykernel\\__main__.py:21: UserWarning: Update your `Dense` call to the Keras 2 API: `Dense(input_dim=50, activation=\"softmax\", units=10, kernel_initializer=\"uniform\")`\n"
     ]
    },
    {
     "name": "stdout",
     "output_type": "stream",
     "text": [
      "Train on 54000 samples, validate on 6000 samples\n",
      "Epoch 1/50\n",
      "54000/54000 [==============================] - 5s - loss: 2.1415 - val_loss: 1.8288\n",
      "Epoch 2/50\n",
      "54000/54000 [==============================] - 1s - loss: 1.4356 - val_loss: 1.0812\n",
      "Epoch 3/50\n",
      "54000/54000 [==============================] - 1s - loss: 0.9421 - val_loss: 0.7495\n",
      "Epoch 4/50\n",
      "54000/54000 [==============================] - 1s - loss: 0.6956 - val_loss: 0.5581\n",
      "Epoch 5/50\n",
      "54000/54000 [==============================] - 1s - loss: 0.5619 - val_loss: 0.4660\n",
      "Epoch 6/50\n",
      "54000/54000 [==============================] - 2s - loss: 0.4902 - val_loss: 0.4164\n",
      "Epoch 7/50\n",
      "54000/54000 [==============================] - 1s - loss: 0.4447 - val_loss: 0.3699\n",
      "Epoch 8/50\n",
      "54000/54000 [==============================] - 1s - loss: 0.4058 - val_loss: 0.3448\n",
      "Epoch 9/50\n",
      "54000/54000 [==============================] - 1s - loss: 0.3920 - val_loss: 0.3309\n",
      "Epoch 10/50\n",
      "54000/54000 [==============================] - 1s - loss: 0.3743 - val_loss: 0.3279\n",
      "Epoch 11/50\n",
      "54000/54000 [==============================] - 1s - loss: 0.3618 - val_loss: 0.2978\n",
      "Epoch 12/50\n",
      "54000/54000 [==============================] - 2s - loss: 0.3473 - val_loss: 0.3008\n",
      "Epoch 13/50\n",
      "54000/54000 [==============================] - 2s - loss: 0.3314 - val_loss: 0.2870\n",
      "Epoch 14/50\n",
      "54000/54000 [==============================] - 2s - loss: 0.3236 - val_loss: 0.2833\n",
      "Epoch 15/50\n",
      "54000/54000 [==============================] - 1s - loss: 0.3171 - val_loss: 0.2724\n",
      "Epoch 16/50\n",
      "54000/54000 [==============================] - 1s - loss: 0.3106 - val_loss: 0.2626\n",
      "Epoch 17/50\n",
      "54000/54000 [==============================] - 1s - loss: 0.2991 - val_loss: 0.2484\n",
      "Epoch 18/50\n",
      "54000/54000 [==============================] - 1s - loss: 0.2858 - val_loss: 0.2384\n",
      "Epoch 19/50\n",
      "54000/54000 [==============================] - 2s - loss: 0.2822 - val_loss: 0.2407\n",
      "Epoch 20/50\n",
      "54000/54000 [==============================] - 1s - loss: 0.2801 - val_loss: 0.2328\n",
      "Epoch 21/50\n",
      "54000/54000 [==============================] - 2s - loss: 0.2711 - val_loss: 0.2209\n",
      "Epoch 22/50\n",
      "54000/54000 [==============================] - 1s - loss: 0.2615 - val_loss: 0.2196\n",
      "Epoch 23/50\n",
      "54000/54000 [==============================] - 1s - loss: 0.2606 - val_loss: 0.2196\n",
      "Epoch 24/50\n",
      "54000/54000 [==============================] - 1s - loss: 0.2525 - val_loss: 0.2175\n",
      "Epoch 25/50\n",
      "54000/54000 [==============================] - 1s - loss: 0.2553 - val_loss: 0.2345\n",
      "Epoch 26/50\n",
      "54000/54000 [==============================] - 2s - loss: 0.2515 - val_loss: 0.2214\n",
      "Epoch 27/50\n",
      "54000/54000 [==============================] - 1s - loss: 0.2485 - val_loss: 0.2110\n",
      "Epoch 28/50\n",
      "54000/54000 [==============================] - 2s - loss: 0.2482 - val_loss: 0.2064\n",
      "Epoch 29/50\n",
      "54000/54000 [==============================] - 1s - loss: 0.2391 - val_loss: 0.1990\n",
      "Epoch 30/50\n",
      "54000/54000 [==============================] - 1s - loss: 0.2345 - val_loss: 0.1946\n",
      "Epoch 31/50\n",
      "54000/54000 [==============================] - 1s - loss: 0.2290 - val_loss: 0.2041\n",
      "Epoch 32/50\n",
      "54000/54000 [==============================] - 1s - loss: 0.2392 - val_loss: 0.2193\n",
      "Epoch 33/50\n",
      "54000/54000 [==============================] - 2s - loss: 0.2533 - val_loss: 0.2163\n",
      "Epoch 34/50\n",
      "54000/54000 [==============================] - 2s - loss: 0.2425 - val_loss: 0.1960\n",
      "Epoch 35/50\n",
      "54000/54000 [==============================] - 2s - loss: 0.2289 - val_loss: 0.1999\n",
      "Epoch 36/50\n",
      "54000/54000 [==============================] - 3s - loss: 0.2305 - val_loss: 0.2108\n",
      "Epoch 37/50\n",
      "54000/54000 [==============================] - 2s - loss: 0.2343 - val_loss: 0.1934\n",
      "Epoch 38/50\n",
      "54000/54000 [==============================] - 2s - loss: 0.2301 - val_loss: 0.1920\n",
      "Epoch 39/50\n",
      "54000/54000 [==============================] - 2s - loss: 0.2221 - val_loss: 0.1905\n",
      "Epoch 40/50\n",
      "54000/54000 [==============================] - 2s - loss: 0.2281 - val_loss: 0.1978\n",
      "Epoch 41/50\n",
      "54000/54000 [==============================] - 3s - loss: 0.2185 - val_loss: 0.1851\n",
      "Epoch 42/50\n",
      "54000/54000 [==============================] - 2s - loss: 0.2127 - val_loss: 0.1868\n",
      "Epoch 43/50\n",
      "54000/54000 [==============================] - 1s - loss: 0.2131 - val_loss: 0.1906\n",
      "Epoch 44/50\n",
      "54000/54000 [==============================] - 2s - loss: 0.2200 - val_loss: 0.1879\n",
      "Epoch 45/50\n",
      "54000/54000 [==============================] - 1s - loss: 0.2115 - val_loss: 0.1794\n",
      "Epoch 46/50\n",
      "54000/54000 [==============================] - 1s - loss: 0.2097 - val_loss: 0.1822\n",
      "Epoch 47/50\n",
      "54000/54000 [==============================] - 1s - loss: 0.2116 - val_loss: 0.1833\n",
      "Epoch 48/50\n",
      "54000/54000 [==============================] - 1s - loss: 0.2074 - val_loss: 0.2023\n",
      "Epoch 49/50\n",
      "54000/54000 [==============================] - 2s - loss: 0.2063 - val_loss: 0.1868\n",
      "Epoch 50/50\n",
      "54000/54000 [==============================] - 2s - loss: 0.2012 - val_loss: 0.1843\n"
     ]
    },
    {
     "data": {
      "text/plain": [
       "<keras.callbacks.History at 0x16ffab00>"
      ]
     },
     "execution_count": 57,
     "metadata": {},
     "output_type": "execute_result"
    }
   ],
   "source": [
    "from keras.models import Sequential\n",
    "from keras.layers.core import Dense\n",
    "from keras.optimizers import SGD\n",
    "\n",
    "np.random.seed(1) \n",
    "\n",
    "model = Sequential()\n",
    "model.add(Dense(input_dim=X_train.shape[1], \n",
    "                units=50, \n",
    "                init='uniform', \n",
    "                activation='tanh'))\n",
    "\n",
    "model.add(Dense(input_dim=50, \n",
    "                units=50, \n",
    "                init='uniform', \n",
    "                activation='tanh'))\n",
    "\n",
    "model.add(Dense(input_dim=50, \n",
    "                units=y_train_OneHotEncoding.shape[1], \n",
    "                init='uniform', \n",
    "                activation='softmax'))\n",
    "\n",
    "sgd = SGD(lr=0.001, decay=1e-7, momentum=.9)\n",
    "model.compile(loss='categorical_crossentropy', optimizer=sgd)\n",
    "\n",
    "model.fit(X_train, y_train_OneHotEncoding, epochs=50, \n",
    "          batch_size=200, verbose=1, shuffle=True,\n",
    "          validation_split=0.1)"
   ]
  },
  {
   "cell_type": "code",
   "execution_count": 61,
   "metadata": {},
   "outputs": [
    {
     "name": "stdout",
     "output_type": "stream",
     "text": [
      "train acc 93.81166666666667, test acc 93.37 \n"
     ]
    }
   ],
   "source": [
    "y_train_pred = model.predict_classes(X_train, verbose=0)\n",
    "train_acc = np.sum(y_train == y_train_pred, axis=0, dtype='float') / X_train.shape[0]\n",
    "y_test_pred = model.predict_classes(X_test, verbose=0)\n",
    "test_acc = np.sum(y_test == y_test_pred, axis=0, dtype='float') / X_test.shape[0]\n",
    "print('train acc {}, test acc {} '.format(train_acc*100, test_acc*100))"
   ]
  },
  {
   "cell_type": "code",
   "execution_count": 60,
   "metadata": {
    "scrolled": true
   },
   "outputs": [
    {
     "name": "stdout",
     "output_type": "stream",
     "text": [
      "_________________________________________________________________\n",
      "Layer (type)                 Output Shape              Param #   \n",
      "=================================================================\n",
      "dense_37 (Dense)             (None, 50)                39250     \n",
      "_________________________________________________________________\n",
      "dense_38 (Dense)             (None, 50)                2550      \n",
      "_________________________________________________________________\n",
      "dense_39 (Dense)             (None, 10)                510       \n",
      "=================================================================\n",
      "Total params: 42,310\n",
      "Trainable params: 42,310\n",
      "Non-trainable params: 0\n",
      "_________________________________________________________________\n"
     ]
    }
   ],
   "source": [
    "model.summary()"
   ]
  },
  {
   "cell_type": "markdown",
   "metadata": {},
   "source": [
    "Deep neural network using Keras and tensorflow achieved better accuracy than shallow learning algorithms"
   ]
  },
  {
   "cell_type": "markdown",
   "metadata": {},
   "source": [
    "References:  https://github.com/Einsteinish/Artificial-Neural-Networks-with-Jupyter/blob/master/part10-Theano.ipynb"
   ]
  },
  {
   "cell_type": "code",
   "execution_count": null,
   "metadata": {
    "collapsed": true
   },
   "outputs": [],
   "source": []
  }
 ],
 "metadata": {
  "kernelspec": {
   "display_name": "Python 3",
   "language": "python",
   "name": "python3"
  },
  "language_info": {
   "codemirror_mode": {
    "name": "ipython",
    "version": 3
   },
   "file_extension": ".py",
   "mimetype": "text/x-python",
   "name": "python",
   "nbconvert_exporter": "python",
   "pygments_lexer": "ipython3",
   "version": "3.6.0"
  }
 },
 "nbformat": 4,
 "nbformat_minor": 2
}
