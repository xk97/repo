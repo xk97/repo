{
 "cells": [
  {
   "cell_type": "code",
   "execution_count": 1,
   "metadata": {},
   "outputs": [
    {
     "name": "stdout",
     "output_type": "stream",
     "text": [
      "Populating the interactive namespace from numpy and matplotlib\n"
     ]
    }
   ],
   "source": [
    "%pylab inline"
   ]
  },
  {
   "cell_type": "code",
   "execution_count": 2,
   "metadata": {},
   "outputs": [],
   "source": [
    "import os\n",
    "import pandas as pd\n",
    "import dask.dataframe as dd\n",
    "from dask.distributed import Client"
   ]
  },
  {
   "cell_type": "markdown",
   "metadata": {},
   "source": [
    "# What data will we use?"
   ]
  },
  {
   "cell_type": "code",
   "execution_count": 3,
   "metadata": {},
   "outputs": [
    {
     "name": "stdout",
     "output_type": "stream",
     "text": [
      "./data/yellow_tripdata_2015-05.csv   -   size: 1.92GB\n",
      "./data/yellow_tripdata_2015-11.csv   -   size: 1.65GB\n",
      "./data/yellow_tripdata_2015-10.csv   -   size: 1.80GB\n",
      "./data/yellow_tripdata_2015-04.csv   -   size: 1.91GB\n",
      "./data/yellow_tripdata_2015-12.csv   -   size: 1.67GB\n",
      "./data/yellow_tripdata_2015-06.csv   -   size: 1.80GB\n",
      "./data/yellow_tripdata_2015-07.csv   -   size: 1.69GB\n",
      "./data/yellow_tripdata_2015-03.csv   -   size: 1.94GB\n",
      "./data/yellow_tripdata_2015-02.csv   -   size: 1.81GB\n",
      "./data/yellow_tripdata_2015-01.csv   -   size: 1.85GB\n",
      "./data/yellow_tripdata_2015-09.csv   -   size: 1.64GB\n",
      "./data/yellow_tripdata_2015-08.csv   -   size: 1.63GB\n"
     ]
    }
   ],
   "source": [
    "# Files that we will use for this example.\n",
    "for file in os.listdir('./data/'):\n",
    "    print('./data/' + file + '   -   size: %1.2f'\n",
    "          %(os.path.getsize('./data/'+file)/1024/1024/1024)+'GB')"
   ]
  },
  {
   "cell_type": "markdown",
   "metadata": {},
   "source": [
    "# Using pandas"
   ]
  },
  {
   "cell_type": "code",
   "execution_count": 4,
   "metadata": {},
   "outputs": [
    {
     "name": "stdout",
     "output_type": "stream",
     "text": [
      "CPU times: user 13min 24s, sys: 3min 35s, total: 17min\n",
      "Wall time: 15min 3s\n"
     ]
    }
   ],
   "source": [
    "%%time\n",
    "# Parse date time columns as datetime64[ns]\n",
    "date_cols = ['tpep_pickup_datetime', 'tpep_dropoff_datetime'] \n",
    "df = []\n",
    "for i in range(1,13):\n",
    "    df.append(pd.read_csv('data/yellow_tripdata_2015-' + '%02d'%i + '.csv',\n",
    "                          date_parser = pd.to_datetime,  \n",
    "                          parse_dates = date_cols))\n",
    "df = pd.concat(df, sort=False)"
   ]
  },
  {
   "cell_type": "code",
   "execution_count": 5,
   "metadata": {},
   "outputs": [],
   "source": [
    "def calculate_distance(df):\n",
    "    \"\"\"Function to transform lat-lon coordinates to distance \n",
    "    according to (https://www.movable-type.co.uk/scripts/latlong.html)\"\"\"\n",
    "    \n",
    "    lon1 = np.radians(df.pickup_longitude)\n",
    "    lon2 = np.radians(df.dropoff_longitude)\n",
    "    lat1 = np.radians(df.pickup_latitude)\n",
    "    lat2 = np.radians(df.dropoff_latitude)\n",
    "    dlon = lon2 - lon1\n",
    "    dlat = lat2 - lat1 \n",
    "    a =  np.sin(dlat/2)**2 + np.cos(lat1) * np.cos(lat2) * np.sin(dlon/2)**2\n",
    "    c = 2 * np.arctan2(np.sqrt(a), np.sqrt(1-a))\n",
    "    R = 6373\n",
    "    return R * c"
   ]
  },
  {
   "cell_type": "code",
   "execution_count": 6,
   "metadata": {},
   "outputs": [
    {
     "name": "stdout",
     "output_type": "stream",
     "text": [
      "CPU times: user 2min 1s, sys: 4min 11s, total: 6min 12s\n",
      "Wall time: 4min 4s\n"
     ]
    },
    {
     "data": {
      "image/png": "[encoded data removed]",
      "text/plain": [
       "<Figure size 432x288 with 1 Axes>"
      ]
     },
     "metadata": {
      "needs_background": "light"
     },
     "output_type": "display_data"
    }
   ],
   "source": [
    "%%time\n",
    "df['distance'] = calculate_distance(df)\n",
    "df['fare_per_mile'] = df.fare_amount/df.distance\n",
    "df['trip_distance_km'] = df.trip_distance*1.609344\n",
    "df['time_in_cab'] = df.tpep_dropoff_datetime - df.tpep_pickup_datetime\n",
    "df['pickup_hour'] = df.tpep_pickup_datetime.dt.hour\n",
    "df['pickup_dow'] = df.tpep_pickup_datetime.dt.dayofweek\n",
    "df['pickup_month'] = df.tpep_pickup_datetime.dt.month\n",
    "\n",
    "df.groupby(df.pickup_month).tip_amount.mean().sort_index().plot.bar()"
   ]
  },
  {
   "cell_type": "markdown",
   "metadata": {},
   "source": [
    "# Using Dask"
   ]
  },
  {
   "cell_type": "code",
   "execution_count": 8,
   "metadata": {
    "scrolled": false
   },
   "outputs": [
    {
     "data": {
      "text/html": [
       "<table style=\"border: 2px solid white;\">\n",
       "<tr>\n",
       "<td style=\"vertical-align: top; border: 0px solid white\">\n",
       "<h3>Client</h3>\n",
       "<ul>\n",
       "  <li><b>Scheduler: </b>inproc://192.168.3.176/24483/1\n",
       "  <li><b>Dashboard: </b><a href='http://localhost:8787/status' target='_blank'>http://localhost:8787/status</a>\n",
       "</ul>\n",
       "</td>\n",
       "<td style=\"vertical-align: top; border: 0px solid white\">\n",
       "<h3>Cluster</h3>\n",
       "<ul>\n",
       "  <li><b>Workers: </b>1</li>\n",
       "  <li><b>Cores: </b>12</li>\n",
       "  <li><b>Memory: </b>17.18 GB</li>\n",
       "</ul>\n",
       "</td>\n",
       "</tr>\n",
       "</table>"
      ],
      "text/plain": [
       "<Client: scheduler='inproc://192.168.3.176/24483/1' processes=1 cores=12>"
      ]
     },
     "execution_count": 8,
     "metadata": {},
     "output_type": "execute_result"
    }
   ],
   "source": [
    "client = Czlient(processes=False)\n",
    "client"
   ]
  },
  {
   "cell_type": "code",
   "execution_count": 9,
   "metadata": {},
   "outputs": [
    {
     "name": "stdout",
     "output_type": "stream",
     "text": [
      "CPU times: user 29min 54s, sys: 54min 14s, total: 1h 24min 9s\n",
      "Wall time: 10min 14s\n"
     ]
    },
    {
     "data": {
      "image/png": "[encoded data removed]",
      "text/plain": [
       "<Figure size 432x288 with 1 Axes>"
      ]
     },
     "metadata": {
      "needs_background": "light"
     },
     "output_type": "display_data"
    }
   ],
   "source": [
    "%%time \n",
    "ddf = dd.read_csv('data/yellow_tripdata_2015-*.csv',blocksize=13e7,assume_missing=True)\n",
    "ddf['distance'] = ddf.map_partitions(lambda df: calculate_distance(df))\n",
    "ddf['fare_per_mile'] = ddf.fare_amount/ddf.distance\n",
    "ddf['trip_distance_km'] = ddf.trip_distance*1.609344\n",
    "ddf['tpep_pickup_datetime'] = dd.to_datetime(ddf.tpep_pickup_datetime, errors='ignore')\n",
    "ddf['tpep_dropoff_datetime'] = dd.to_datetime(ddf.tpep_dropoff_datetime, errors='ignore')\n",
    "ddf['time_in_cab'] = ddf.tpep_dropoff_datetime - ddf.tpep_pickup_datetime\n",
    "ddf['pickup_hour'] = ddf.tpep_pickup_datetime.dt.hour\n",
    "ddf['pickup_dow'] = ddf.tpep_pickup_datetime.dt.dayofweek\n",
    "ddf['pickup_month'] = ddf.tpep_pickup_datetime.dt.month\n",
    "\n",
    "ddf = client.persist(ddf)\n",
    "ddf.groupby(ddf.pickup_month).tip_amount.mean().compute().sort_index().plot.bar()"
   ]
  }
 ],
 "metadata": {
  "kernelspec": {
   "display_name": "Python 3",
   "language": "python",
   "name": "python3"
  },
  "language_info": {
   "codemirror_mode": {
    "name": "ipython",
    "version": 3
   },
   "file_extension": ".py",
   "mimetype": "text/x-python",
   "name": "python",
   "nbconvert_exporter": "python",
   "pygments_lexer": "ipython3",
   "version": "3.5.6"
  }
 },
 "nbformat": 4,
 "nbformat_minor": 2
}
